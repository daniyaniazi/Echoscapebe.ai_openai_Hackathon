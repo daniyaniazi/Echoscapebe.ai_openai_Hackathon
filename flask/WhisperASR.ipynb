{
  "cells": [
    {
      "cell_type": "code",
      "execution_count": 18,
      "metadata": {
        "colab": {
          "base_uri": "https://localhost:8080/"
        },
        "id": "qusze4BzC87u",
        "outputId": "8e06f2f0-db4e-4db7-e202-25c2efe631f4"
      },
      "outputs": [
        {
          "output_type": "stream",
          "name": "stdout",
          "text": [
            "Looking in indexes: https://pypi.org/simple, https://us-python.pkg.dev/colab-wheels/public/simple/\n",
            "Collecting streamlit\n",
            "  Downloading streamlit-1.15.2-py2.py3-none-any.whl (9.2 MB)\n",
            "\u001b[K     |████████████████████████████████| 9.2 MB 6.6 MB/s \n",
            "\u001b[?25hRequirement already satisfied: cachetools>=4.0 in /usr/local/lib/python3.8/dist-packages (from streamlit) (5.2.0)\n",
            "Requirement already satisfied: typing-extensions>=3.10.0.0 in /usr/local/lib/python3.8/dist-packages (from streamlit) (4.4.0)\n",
            "Requirement already satisfied: altair>=3.2.0 in /usr/local/lib/python3.8/dist-packages (from streamlit) (4.2.0)\n",
            "Requirement already satisfied: pillow>=6.2.0 in /usr/local/lib/python3.8/dist-packages (from streamlit) (7.1.2)\n",
            "Collecting pympler>=0.9\n",
            "  Downloading Pympler-1.0.1-py3-none-any.whl (164 kB)\n",
            "\u001b[K     |████████████████████████████████| 164 kB 55.9 MB/s \n",
            "\u001b[?25hRequirement already satisfied: pyarrow>=4.0 in /usr/local/lib/python3.8/dist-packages (from streamlit) (9.0.0)\n",
            "Requirement already satisfied: python-dateutil in /usr/local/lib/python3.8/dist-packages (from streamlit) (2.8.2)\n",
            "Requirement already satisfied: tzlocal>=1.1 in /usr/local/lib/python3.8/dist-packages (from streamlit) (1.5.1)\n",
            "Requirement already satisfied: numpy in /usr/local/lib/python3.8/dist-packages (from streamlit) (1.21.6)\n",
            "Collecting gitpython!=3.1.19\n",
            "  Downloading GitPython-3.1.29-py3-none-any.whl (182 kB)\n",
            "\u001b[K     |████████████████████████████████| 182 kB 63.5 MB/s \n",
            "\u001b[?25hRequirement already satisfied: toml in /usr/local/lib/python3.8/dist-packages (from streamlit) (0.10.2)\n",
            "Collecting rich>=10.11.0\n",
            "  Downloading rich-12.6.0-py3-none-any.whl (237 kB)\n",
            "\u001b[K     |████████████████████████████████| 237 kB 54.7 MB/s \n",
            "\u001b[?25hRequirement already satisfied: protobuf<4,>=3.12 in /usr/local/lib/python3.8/dist-packages (from streamlit) (3.19.6)\n",
            "Collecting watchdog\n",
            "  Downloading watchdog-2.2.0-py3-none-manylinux2014_x86_64.whl (78 kB)\n",
            "\u001b[K     |████████████████████████████████| 78 kB 6.8 MB/s \n",
            "\u001b[?25hRequirement already satisfied: packaging>=14.1 in /usr/local/lib/python3.8/dist-packages (from streamlit) (21.3)\n",
            "Requirement already satisfied: importlib-metadata>=1.4 in /usr/local/lib/python3.8/dist-packages (from streamlit) (4.13.0)\n",
            "Requirement already satisfied: pandas>=0.21.0 in /usr/local/lib/python3.8/dist-packages (from streamlit) (1.3.5)\n",
            "Collecting pydeck>=0.1.dev5\n",
            "  Downloading pydeck-0.8.0-py2.py3-none-any.whl (4.7 MB)\n",
            "\u001b[K     |████████████████████████████████| 4.7 MB 51.7 MB/s \n",
            "\u001b[?25hCollecting validators>=0.2\n",
            "  Downloading validators-0.20.0.tar.gz (30 kB)\n",
            "Collecting blinker>=1.0.0\n",
            "  Downloading blinker-1.5-py2.py3-none-any.whl (12 kB)\n",
            "Requirement already satisfied: tornado>=5.0 in /usr/local/lib/python3.8/dist-packages (from streamlit) (6.0.4)\n",
            "Requirement already satisfied: requests>=2.4 in /usr/local/lib/python3.8/dist-packages (from streamlit) (2.23.0)\n",
            "Requirement already satisfied: click>=7.0 in /usr/local/lib/python3.8/dist-packages (from streamlit) (7.1.2)\n",
            "Collecting semver\n",
            "  Downloading semver-2.13.0-py2.py3-none-any.whl (12 kB)\n",
            "Requirement already satisfied: jsonschema>=3.0 in /usr/local/lib/python3.8/dist-packages (from altair>=3.2.0->streamlit) (4.3.3)\n",
            "Requirement already satisfied: jinja2 in /usr/local/lib/python3.8/dist-packages (from altair>=3.2.0->streamlit) (2.11.3)\n",
            "Requirement already satisfied: toolz in /usr/local/lib/python3.8/dist-packages (from altair>=3.2.0->streamlit) (0.12.0)\n",
            "Requirement already satisfied: entrypoints in /usr/local/lib/python3.8/dist-packages (from altair>=3.2.0->streamlit) (0.4)\n",
            "Collecting gitdb<5,>=4.0.1\n",
            "  Downloading gitdb-4.0.10-py3-none-any.whl (62 kB)\n",
            "\u001b[K     |████████████████████████████████| 62 kB 1.7 MB/s \n",
            "\u001b[?25hCollecting smmap<6,>=3.0.1\n",
            "  Downloading smmap-5.0.0-py3-none-any.whl (24 kB)\n",
            "Requirement already satisfied: zipp>=0.5 in /usr/local/lib/python3.8/dist-packages (from importlib-metadata>=1.4->streamlit) (3.11.0)\n",
            "Requirement already satisfied: importlib-resources>=1.4.0 in /usr/local/lib/python3.8/dist-packages (from jsonschema>=3.0->altair>=3.2.0->streamlit) (5.10.0)\n",
            "Requirement already satisfied: attrs>=17.4.0 in /usr/local/lib/python3.8/dist-packages (from jsonschema>=3.0->altair>=3.2.0->streamlit) (22.1.0)\n",
            "Requirement already satisfied: pyrsistent!=0.17.0,!=0.17.1,!=0.17.2,>=0.14.0 in /usr/local/lib/python3.8/dist-packages (from jsonschema>=3.0->altair>=3.2.0->streamlit) (0.19.2)\n",
            "Requirement already satisfied: pyparsing!=3.0.5,>=2.0.2 in /usr/local/lib/python3.8/dist-packages (from packaging>=14.1->streamlit) (3.0.9)\n",
            "Requirement already satisfied: pytz>=2017.3 in /usr/local/lib/python3.8/dist-packages (from pandas>=0.21.0->streamlit) (2022.6)\n",
            "Requirement already satisfied: MarkupSafe>=0.23 in /usr/local/lib/python3.8/dist-packages (from jinja2->altair>=3.2.0->streamlit) (2.0.1)\n",
            "Requirement already satisfied: six>=1.5 in /usr/local/lib/python3.8/dist-packages (from python-dateutil->streamlit) (1.15.0)\n",
            "Requirement already satisfied: idna<3,>=2.5 in /usr/local/lib/python3.8/dist-packages (from requests>=2.4->streamlit) (2.10)\n",
            "Requirement already satisfied: certifi>=2017.4.17 in /usr/local/lib/python3.8/dist-packages (from requests>=2.4->streamlit) (2022.9.24)\n",
            "Requirement already satisfied: chardet<4,>=3.0.2 in /usr/local/lib/python3.8/dist-packages (from requests>=2.4->streamlit) (3.0.4)\n",
            "Requirement already satisfied: urllib3!=1.25.0,!=1.25.1,<1.26,>=1.21.1 in /usr/local/lib/python3.8/dist-packages (from requests>=2.4->streamlit) (1.24.3)\n",
            "Collecting commonmark<0.10.0,>=0.9.0\n",
            "  Downloading commonmark-0.9.1-py2.py3-none-any.whl (51 kB)\n",
            "\u001b[K     |████████████████████████████████| 51 kB 7.9 MB/s \n",
            "\u001b[?25hRequirement already satisfied: pygments<3.0.0,>=2.6.0 in /usr/local/lib/python3.8/dist-packages (from rich>=10.11.0->streamlit) (2.6.1)\n",
            "Requirement already satisfied: decorator>=3.4.0 in /usr/local/lib/python3.8/dist-packages (from validators>=0.2->streamlit) (4.4.2)\n",
            "Building wheels for collected packages: validators\n",
            "  Building wheel for validators (setup.py) ... \u001b[?25l\u001b[?25hdone\n",
            "  Created wheel for validators: filename=validators-0.20.0-py3-none-any.whl size=19581 sha256=04f6f1a1351589bd8be72bc21a05bf7ce6a5b452efcf127153f63ca68ea79307\n",
            "  Stored in directory: /root/.cache/pip/wheels/19/09/72/3eb74d236bb48bd0f3c6c3c83e4e0c5bbfcbcad7c6c3539db8\n",
            "Successfully built validators\n",
            "Installing collected packages: smmap, gitdb, commonmark, watchdog, validators, semver, rich, pympler, pydeck, gitpython, blinker, streamlit\n",
            "Successfully installed blinker-1.5 commonmark-0.9.1 gitdb-4.0.10 gitpython-3.1.29 pydeck-0.8.0 pympler-1.0.1 rich-12.6.0 semver-2.13.0 smmap-5.0.0 streamlit-1.15.2 validators-0.20.0 watchdog-2.2.0\n"
          ]
        }
      ],
      "source": [
        "!pip install streamlit"
      ]
    },
    {
      "cell_type": "code",
      "execution_count": null,
      "metadata": {
        "colab": {
          "base_uri": "https://localhost:8080/"
        },
        "id": "jJJPfqjiDPy1",
        "outputId": "23002933-4177-40c9-8d5e-97163c9aff03"
      },
      "outputs": [
        {
          "name": "stdout",
          "output_type": "stream",
          "text": [
            "Looking in indexes: https://pypi.org/simple, https://us-python.pkg.dev/colab-wheels/public/simple/\n",
            "Collecting dotenv\n",
            "  Using cached dotenv-0.0.5.tar.gz (2.4 kB)\n",
            "\u001b[33mWARNING: Discarding https://files.pythonhosted.org/packages/e2/46/3754073706e31670eed18bfa8a879305b56a471db15f20523c2427b10078/dotenv-0.0.5.tar.gz#sha256=b58d2ab3f83dbd4f8a362b21158a606bee87317a9444485566b3c8f0af847091 (from https://pypi.org/simple/dotenv/). Command errored out with exit status 1: python setup.py egg_info Check the logs for full command output.\u001b[0m\n",
            "  Using cached dotenv-0.0.4.tar.gz (2.0 kB)\n",
            "\u001b[33mWARNING: Discarding https://files.pythonhosted.org/packages/2a/79/933746dc7f4891e5d7de0c113fd3c38cbf76bda0ea1b52df6484e3714928/dotenv-0.0.4.tar.gz#sha256=147fb269f4b65313079c4c2e2c9e74581f1e75c11c92555dcf5b5f48f24599a4 (from https://pypi.org/simple/dotenv/). Command errored out with exit status 1: python setup.py egg_info Check the logs for full command output.\u001b[0m\n",
            "  Using cached dotenv-0.0.2.tar.gz (6.7 kB)\n",
            "\u001b[33mWARNING: Discarding https://files.pythonhosted.org/packages/ca/41/d922e0b32beaf7251ff1540a4b5a13c54d6bc25ccd9704294524a1f3af17/dotenv-0.0.2.tar.gz#sha256=6a35c7afd2a1584ccfdcd2af22994b125846ded1fa08ef4a831f4e2281303100 (from https://pypi.org/simple/dotenv/). Command errored out with exit status 1: python setup.py egg_info Check the logs for full command output.\u001b[0m\n",
            "  Using cached dotenv-0.0.1.tar.gz (6.5 kB)\n",
            "\u001b[33mWARNING: Discarding https://files.pythonhosted.org/packages/fa/5a/6dcdddeaa0ddc0bd331fdd1bc8696d9650ede0cb014083716976174eb4b8/dotenv-0.0.1.tar.gz#sha256=04006132a48e301a40b5bc3e8ea0d667a68981f277bb1785af0f8b9f7958e278 (from https://pypi.org/simple/dotenv/). Command errored out with exit status 1: python setup.py egg_info Check the logs for full command output.\u001b[0m\n",
            "\u001b[31mERROR: Could not find a version that satisfies the requirement dotenv (from versions: 0.0.1, 0.0.2, 0.0.4, 0.0.5)\u001b[0m\n",
            "\u001b[31mERROR: No matching distribution found for dotenv\u001b[0m\n"
          ]
        }
      ],
      "source": [
        "!pip install dotenv"
      ]
    },
    {
      "cell_type": "code",
      "execution_count": 4,
      "metadata": {
        "colab": {
          "base_uri": "https://localhost:8080/"
        },
        "id": "AA0LnrFYDU9j",
        "outputId": "39024638-e83a-4583-e8f2-d9581fa34ac5"
      },
      "outputs": [
        {
          "output_type": "stream",
          "name": "stdout",
          "text": [
            "Looking in indexes: https://pypi.org/simple, https://us-python.pkg.dev/colab-wheels/public/simple/\n",
            "Collecting git+https://github.com/openai/whisper.git\n",
            "  Cloning https://github.com/openai/whisper.git to /tmp/pip-req-build-2b811glz\n",
            "  Running command git clone -q https://github.com/openai/whisper.git /tmp/pip-req-build-2b811glz\n",
            "Requirement already satisfied: numpy in /usr/local/lib/python3.8/dist-packages (from whisper==1.0) (1.21.6)\n",
            "Requirement already satisfied: torch in /usr/local/lib/python3.8/dist-packages (from whisper==1.0) (1.13.0+cu116)\n",
            "Requirement already satisfied: tqdm in /usr/local/lib/python3.8/dist-packages (from whisper==1.0) (4.64.1)\n",
            "Requirement already satisfied: more-itertools in /usr/local/lib/python3.8/dist-packages (from whisper==1.0) (9.0.0)\n",
            "Collecting transformers>=4.19.0\n",
            "  Downloading transformers-4.25.1-py3-none-any.whl (5.8 MB)\n",
            "\u001b[K     |████████████████████████████████| 5.8 MB 7.6 MB/s \n",
            "\u001b[?25hCollecting ffmpeg-python==0.2.0\n",
            "  Downloading ffmpeg_python-0.2.0-py3-none-any.whl (25 kB)\n",
            "Requirement already satisfied: future in /usr/local/lib/python3.8/dist-packages (from ffmpeg-python==0.2.0->whisper==1.0) (0.16.0)\n",
            "Requirement already satisfied: packaging>=20.0 in /usr/local/lib/python3.8/dist-packages (from transformers>=4.19.0->whisper==1.0) (21.3)\n",
            "Requirement already satisfied: regex!=2019.12.17 in /usr/local/lib/python3.8/dist-packages (from transformers>=4.19.0->whisper==1.0) (2022.6.2)\n",
            "Requirement already satisfied: filelock in /usr/local/lib/python3.8/dist-packages (from transformers>=4.19.0->whisper==1.0) (3.8.0)\n",
            "Collecting tokenizers!=0.11.3,<0.14,>=0.11.1\n",
            "  Downloading tokenizers-0.13.2-cp38-cp38-manylinux_2_17_x86_64.manylinux2014_x86_64.whl (7.6 MB)\n",
            "\u001b[K     |████████████████████████████████| 7.6 MB 62.1 MB/s \n",
            "\u001b[?25hRequirement already satisfied: requests in /usr/local/lib/python3.8/dist-packages (from transformers>=4.19.0->whisper==1.0) (2.23.0)\n",
            "Collecting huggingface-hub<1.0,>=0.10.0\n",
            "  Downloading huggingface_hub-0.11.1-py3-none-any.whl (182 kB)\n",
            "\u001b[K     |████████████████████████████████| 182 kB 46.2 MB/s \n",
            "\u001b[?25hRequirement already satisfied: pyyaml>=5.1 in /usr/local/lib/python3.8/dist-packages (from transformers>=4.19.0->whisper==1.0) (6.0)\n",
            "Requirement already satisfied: typing-extensions>=3.7.4.3 in /usr/local/lib/python3.8/dist-packages (from huggingface-hub<1.0,>=0.10.0->transformers>=4.19.0->whisper==1.0) (4.4.0)\n",
            "Requirement already satisfied: pyparsing!=3.0.5,>=2.0.2 in /usr/local/lib/python3.8/dist-packages (from packaging>=20.0->transformers>=4.19.0->whisper==1.0) (3.0.9)\n",
            "Requirement already satisfied: idna<3,>=2.5 in /usr/local/lib/python3.8/dist-packages (from requests->transformers>=4.19.0->whisper==1.0) (2.10)\n",
            "Requirement already satisfied: urllib3!=1.25.0,!=1.25.1,<1.26,>=1.21.1 in /usr/local/lib/python3.8/dist-packages (from requests->transformers>=4.19.0->whisper==1.0) (1.24.3)\n",
            "Requirement already satisfied: certifi>=2017.4.17 in /usr/local/lib/python3.8/dist-packages (from requests->transformers>=4.19.0->whisper==1.0) (2022.9.24)\n",
            "Requirement already satisfied: chardet<4,>=3.0.2 in /usr/local/lib/python3.8/dist-packages (from requests->transformers>=4.19.0->whisper==1.0) (3.0.4)\n",
            "Building wheels for collected packages: whisper\n",
            "  Building wheel for whisper (setup.py) ... \u001b[?25l\u001b[?25hdone\n",
            "  Created wheel for whisper: filename=whisper-1.0-py3-none-any.whl size=1175324 sha256=fd081a5649216623de80685cff21c21eaa93cc4fa5badd6a83df94ed226e3511\n",
            "  Stored in directory: /tmp/pip-ephem-wheel-cache-1_t268n3/wheels/a7/70/18/b7693c07b1d18b3dafb328f5d0496aa0d41a9c09ef332fd8e6\n",
            "Successfully built whisper\n",
            "Installing collected packages: tokenizers, huggingface-hub, transformers, ffmpeg-python, whisper\n",
            "Successfully installed ffmpeg-python-0.2.0 huggingface-hub-0.11.1 tokenizers-0.13.2 transformers-4.25.1 whisper-1.0\n"
          ]
        }
      ],
      "source": [
        "pip install git+https://github.com/openai/whisper.git\n"
      ]
    },
    {
      "cell_type": "code",
      "execution_count": null,
      "metadata": {
        "colab": {
          "base_uri": "https://localhost:8080/"
        },
        "id": "yro5B9IfieQR",
        "outputId": "bb5a1c8e-bd8c-4b4b-f808-868f5fa00f87"
      },
      "outputs": [
        {
          "name": "stdout",
          "output_type": "stream",
          "text": [
            "/bin/bash: -c: line 0: syntax error near unexpected token `('\n",
            "/bin/bash: -c: line 0: `Set-ExecutionPolicy Bypass -Scope Process -Force; [System.Net.ServicePointManager]::SecurityProtocol = [System.Net.ServicePointManager]::SecurityProtocol -bor 3072; iex ((New-Object System.Net.WebClient).DownloadString(‘https://community.chocolatey.org/install.ps1’))'\n"
          ]
        }
      ],
      "source": [
        "!Set-ExecutionPolicy Bypass -Scope Process -Force; [System.Net.ServicePointManager]::SecurityProtocol = [System.Net.ServicePointManager]::SecurityProtocol -bor 3072; iex ((New-Object System.Net.WebClient).DownloadString(‘https://community.chocolatey.org/install.ps1’))\n",
        "\n"
      ]
    },
    {
      "cell_type": "code",
      "execution_count": 5,
      "metadata": {
        "colab": {
          "base_uri": "https://localhost:8080/"
        },
        "id": "lL0-r686i-Xu",
        "outputId": "fc9ebdcf-b2fb-4317-af4a-91a013d13d6a"
      },
      "outputs": [
        {
          "output_type": "stream",
          "name": "stdout",
          "text": [
            "Looking in indexes: https://pypi.org/simple, https://us-python.pkg.dev/colab-wheels/public/simple/\n",
            "Requirement already satisfied: ffmpeg-python in /usr/local/lib/python3.8/dist-packages (0.2.0)\n",
            "Requirement already satisfied: future in /usr/local/lib/python3.8/dist-packages (from ffmpeg-python) (0.16.0)\n"
          ]
        }
      ],
      "source": [
        "pip install ffmpeg-python"
      ]
    },
    {
      "cell_type": "code",
      "execution_count": 6,
      "metadata": {
        "colab": {
          "base_uri": "https://localhost:8080/",
          "height": 418
        },
        "id": "p6s1PCCujOpS",
        "outputId": "54d26a4d-e4b6-488b-9dea-137e7f75e915"
      },
      "outputs": [
        {
          "output_type": "stream",
          "name": "stdout",
          "text": [
            "Looking in indexes: https://pypi.org/simple, https://us-python.pkg.dev/colab-wheels/public/simple/\n",
            "Collecting setuptools-rust\n",
            "  Downloading setuptools_rust-1.5.2-py3-none-any.whl (23 kB)\n",
            "Collecting setuptools>=62.4\n",
            "  Downloading setuptools-65.6.3-py3-none-any.whl (1.2 MB)\n",
            "\u001b[K     |████████████████████████████████| 1.2 MB 10.8 MB/s \n",
            "\u001b[?25hRequirement already satisfied: typing-extensions>=3.7.4.3 in /usr/local/lib/python3.8/dist-packages (from setuptools-rust) (4.4.0)\n",
            "Collecting semantic-version<3,>=2.8.2\n",
            "  Downloading semantic_version-2.10.0-py2.py3-none-any.whl (15 kB)\n",
            "Installing collected packages: setuptools, semantic-version, setuptools-rust\n",
            "  Attempting uninstall: setuptools\n",
            "    Found existing installation: setuptools 57.4.0\n",
            "    Uninstalling setuptools-57.4.0:\n",
            "      Successfully uninstalled setuptools-57.4.0\n",
            "\u001b[31mERROR: pip's dependency resolver does not currently take into account all the packages that are installed. This behaviour is the source of the following dependency conflicts.\n",
            "ipython 7.9.0 requires jedi>=0.10, which is not installed.\u001b[0m\n",
            "Successfully installed semantic-version-2.10.0 setuptools-65.6.3 setuptools-rust-1.5.2\n"
          ]
        },
        {
          "output_type": "display_data",
          "data": {
            "application/vnd.colab-display-data+json": {
              "pip_warning": {
                "packages": [
                  "pkg_resources"
                ]
              }
            }
          },
          "metadata": {}
        }
      ],
      "source": [
        "pip install setuptools-rust"
      ]
    },
    {
      "cell_type": "code",
      "execution_count": 7,
      "metadata": {
        "id": "zR88ZBNZkIvE"
      },
      "outputs": [],
      "source": [
        "import whisper"
      ]
    },
    {
      "cell_type": "code",
      "execution_count": 8,
      "metadata": {
        "id": "bQ-Slmc9kz8M"
      },
      "outputs": [],
      "source": [
        "\n",
        "import io\n",
        "import os\n",
        "import numpy as np\n",
        "\n",
        "try:\n",
        "    import tensorflow  # required in Colab to avoid protobuf compatibility issues\n",
        "except ImportError:\n",
        "    pass\n",
        "\n",
        "import torch\n",
        "import pandas as pd\n",
        "import urllib\n",
        "import tarfile\n",
        "import whisper\n",
        "import torchaudio\n",
        "\n",
        "from scipy.io import wavfile\n",
        "from tqdm.notebook import tqdm\n",
        "\n",
        "\n",
        "pd.options.display.max_rows = 100\n",
        "pd.options.display.max_colwidth = 1000\n",
        "DEVICE = \"cuda\" if torch.cuda.is_available() else \"cpu\""
      ]
    },
    {
      "cell_type": "code",
      "execution_count": 9,
      "metadata": {
        "colab": {
          "base_uri": "https://localhost:8080/",
          "height": 49,
          "referenced_widgets": [
            "34048a7fb64149a7bd18ca3a5c17b476",
            "d94216b3c92d49fe87afa43a6075e002",
            "e8afb53fb3b9447f90ea3483611fcd60"
          ]
        },
        "id": "6chEnGRrlZRi",
        "outputId": "f1ea3f1e-56ee-4fcd-d12b-31b52c2ab357"
      },
      "outputs": [
        {
          "output_type": "display_data",
          "data": {
            "text/plain": [
              "Dropdown(description='Language:', index=39, options=(('Select language', None), ('----------', None), ('Afrika…"
            ],
            "application/vnd.jupyter.widget-view+json": {
              "version_major": 2,
              "version_minor": 0,
              "model_id": "34048a7fb64149a7bd18ca3a5c17b476"
            }
          },
          "metadata": {}
        }
      ],
      "source": [
        "import ipywidgets as widgets\n",
        "\n",
        "languages = {\"af_za\": \"Afrikaans\", \"am_et\": \"Amharic\", \"ar_eg\": \"Arabic\", \"as_in\": \"Assamese\", \"az_az\": \"Azerbaijani\", \"be_by\": \"Belarusian\", \"bg_bg\": \"Bulgarian\", \"bn_in\": \"Bengali\", \"bs_ba\": \"Bosnian\", \"ca_es\": \"Catalan\", \"cmn_hans_cn\": \"Chinese\", \"cs_cz\": \"Czech\", \"cy_gb\": \"Welsh\", \"da_dk\": \"Danish\", \"de_de\": \"German\", \"el_gr\": \"Greek\", \"en_us\": \"English\", \"es_419\": \"Spanish\", \"et_ee\": \"Estonian\", \"fa_ir\": \"Persian\", \"fi_fi\": \"Finnish\", \"fil_ph\": \"Tagalog\", \"fr_fr\": \"French\", \"gl_es\": \"Galician\", \"gu_in\": \"Gujarati\", \"ha_ng\": \"Hausa\", \"he_il\": \"Hebrew\", \"hi_in\": \"Hindi\", \"hr_hr\": \"Croatian\", \"hu_hu\": \"Hungarian\", \"hy_am\": \"Armenian\", \"id_id\": \"Indonesian\", \"is_is\": \"Icelandic\", \"it_it\": \"Italian\", \"ja_jp\": \"Japanese\", \"jv_id\": \"Javanese\", \"ka_ge\": \"Georgian\", \"kk_kz\": \"Kazakh\", \"km_kh\": \"Khmer\", \"kn_in\": \"Kannada\", \"ko_kr\": \"Korean\", \"lb_lu\": \"Luxembourgish\", \"ln_cd\": \"Lingala\", \"lo_la\": \"Lao\", \"lt_lt\": \"Lithuanian\", \"lv_lv\": \"Latvian\", \"mi_nz\": \"Maori\", \"mk_mk\": \"Macedonian\", \"ml_in\": \"Malayalam\", \"mn_mn\": \"Mongolian\", \"mr_in\": \"Marathi\", \"ms_my\": \"Malay\", \"mt_mt\": \"Maltese\", \"my_mm\": \"Myanmar\", \"nb_no\": \"Norwegian\", \"ne_np\": \"Nepali\", \"nl_nl\": \"Dutch\", \"oc_fr\": \"Occitan\", \"pa_in\": \"Punjabi\", \"pl_pl\": \"Polish\", \"ps_af\": \"Pashto\", \"pt_br\": \"Portuguese\", \"ro_ro\": \"Romanian\", \"ru_ru\": \"Russian\", \"sd_in\": \"Sindhi\", \"sk_sk\": \"Slovak\", \"sl_si\": \"Slovenian\", \"sn_zw\": \"Shona\", \"so_so\": \"Somali\", \"sr_rs\": \"Serbian\", \"sv_se\": \"Swedish\", \"sw_ke\": \"Swahili\", \"ta_in\": \"Tamil\", \"te_in\": \"Telugu\", \"tg_tj\": \"Tajik\", \"th_th\": \"Thai\", \"tr_tr\": \"Turkish\", \"uk_ua\": \"Ukrainian\", \"ur_pk\": \"Urdu\", \"uz_uz\": \"Uzbek\", \"vi_vn\": \"Vietnamese\", \"yo_ng\": \"Yoruba\"}\n",
        "selection = widgets.Dropdown(\n",
        "    options=[(\"Select language\", None), (\"----------\", None)] + sorted([(f\"{v} ({k})\", k) for k, v in languages.items()]),\n",
        "    value=\"ko_kr\",\n",
        "    description='Language:',\n",
        "    disabled=False,\n",
        ")\n",
        "\n",
        "selection\n"
      ]
    },
    {
      "cell_type": "code",
      "execution_count": 10,
      "metadata": {
        "colab": {
          "base_uri": "https://localhost:8080/"
        },
        "id": "wOsb6ejzlgT7",
        "outputId": "7aa728f8-f92a-4f1f-fca7-f6a21123d229"
      },
      "outputs": [
        {
          "output_type": "stream",
          "name": "stdout",
          "text": [
            "Selected language: Korean (ko_kr)\n"
          ]
        }
      ],
      "source": [
        "lang = selection.value\n",
        "language = languages[lang]\n",
        "\n",
        "assert lang is not None, \"Please select a language\"\n",
        "print(f\"Selected language: {language} ({lang})\")\n"
      ]
    },
    {
      "cell_type": "code",
      "execution_count": 11,
      "metadata": {
        "id": "bOxS-UHwln_g"
      },
      "outputs": [],
      "source": [
        "class Fleurs(torch.utils.data.Dataset):\n",
        "    \"\"\"\n",
        "    A simple class to wrap Fleurs and subsample a portion of the dataset as needed.\n",
        "    \"\"\"\n",
        "    def __init__(self, lang, split=\"test\", subsample_rate=1, device=DEVICE):\n",
        "        url = f\"https://storage.googleapis.com/xtreme_translations/FLEURS102/{lang}.tar.gz\"\n",
        "        tar_path = os.path.expanduser(f\"~/.cache/fleurs/{lang}.tgz\")\n",
        "        os.makedirs(os.path.dirname(tar_path), exist_ok=True)\n",
        "\n",
        "        if not os.path.exists(tar_path):\n",
        "            with urllib.request.urlopen(url) as source, open(tar_path, \"wb\") as output:\n",
        "                with tqdm(total=int(source.info().get(\"Content-Length\")), ncols=80, unit='iB', unit_scale=True, unit_divisor=1024) as loop:\n",
        "                    while True:\n",
        "                        buffer = source.read(8192)\n",
        "                        if not buffer:\n",
        "                            break\n",
        "\n",
        "                        output.write(buffer)\n",
        "                        loop.update(len(buffer))\n",
        "\n",
        "        labels = {}\n",
        "        all_audio = {}\n",
        "        with tarfile.open(tar_path, \"r:gz\") as tar:\n",
        "            for member in tar.getmembers():\n",
        "                name = member.name\n",
        "                if name.endswith(f\"{split}.tsv\"):\n",
        "                    labels = pd.read_table(tar.extractfile(member), names=(\"id\", \"file_name\", \"raw_transcription\", \"transcription\", \"_\", \"num_samples\", \"gender\"))\n",
        "\n",
        "                if f\"/{split}/\" in name and name.endswith(\".wav\"):\n",
        "                    audio_bytes = tar.extractfile(member).read()\n",
        "                    all_audio[os.path.basename(name)] = wavfile.read(io.BytesIO(audio_bytes))[1]\n",
        "                    \n",
        "\n",
        "        self.labels = labels.to_dict(\"records\")[::subsample_rate]\n",
        "        self.all_audio = all_audio\n",
        "        self.device = device\n",
        "\n",
        "    def __len__(self):\n",
        "        return len(self.labels)\n",
        "\n",
        "    def __getitem__(self, item):\n",
        "        record = self.labels[item]\n",
        "        audio = torch.from_numpy(self.all_audio[record[\"file_name\"]].copy())\n",
        "        text = record[\"transcription\"]\n",
        "        \n",
        "        return (audio, text)\n",
        "\n"
      ]
    },
    {
      "cell_type": "code",
      "execution_count": 12,
      "metadata": {
        "colab": {
          "base_uri": "https://localhost:8080/",
          "height": 154,
          "referenced_widgets": [
            "a17f5288c09245deaf931fbb5f54ea1e",
            "7a8e699444d74b95ba1354100d27e2b8",
            "a656aa52dc6b4b1585e0d1dd2a41a74d",
            "7125492826a44ba5aa6bb80114fc01d8",
            "c9af8c01689449d0addaf7c39909447e",
            "162c1c6f466b4c8290dc742ac87edd11",
            "647353b9dca941e09df23b43562afb91",
            "2d81952cb4d844158f4c7990d820a6dc",
            "dcaf07059313464c947ea7adc6e65519",
            "f9f7e8da3a4f4eb8925a45c32351a10f",
            "0fecf69672d74998b0f2151263933b5b"
          ]
        },
        "id": "V7Va-RqJl18E",
        "outputId": "428d8894-a178-46d9-b4f1-3edc7e161272"
      },
      "outputs": [
        {
          "output_type": "display_data",
          "data": {
            "text/plain": [
              "  0%|                                              | 0.00/1.65G [00:00<?, ?iB/s]"
            ],
            "application/vnd.jupyter.widget-view+json": {
              "version_major": 2,
              "version_minor": 0,
              "model_id": "a17f5288c09245deaf931fbb5f54ea1e"
            }
          },
          "metadata": {}
        }
      ],
      "source": [
        "dataset = Fleurs(lang, subsample_rate=10)"
      ]
    },
    {
      "cell_type": "code",
      "execution_count": 13,
      "metadata": {
        "colab": {
          "base_uri": "https://localhost:8080/"
        },
        "id": "ydROf48Il5q2",
        "outputId": "e65b7ac8-1ad0-4e1a-c277-65c261a0c2db"
      },
      "outputs": [
        {
          "output_type": "stream",
          "name": "stderr",
          "text": [
            "100%|█████████████████████████████████████| 72.1M/72.1M [00:03<00:00, 22.3MiB/s]\n"
          ]
        },
        {
          "output_type": "stream",
          "name": "stdout",
          "text": [
            "Model is multilingual and has 37,184,640 parameters.\n"
          ]
        }
      ],
      "source": [
        "model = whisper.load_model(\"tiny\")\n",
        "print(\n",
        "    f\"Model is {'multilingual' if model.is_multilingual else 'English-only'} \"\n",
        "    f\"and has {sum(np.prod(p.shape) for p in model.parameters()):,} parameters.\"\n",
        ")"
      ]
    },
    {
      "cell_type": "code",
      "execution_count": 14,
      "metadata": {
        "id": "YcHb9xS7mR83"
      },
      "outputs": [],
      "source": [
        "options = dict(language=language, beam_size=5, best_of=5)\n",
        "transcribe_options = dict(task=\"transcribe\", **options)\n",
        "translate_options = dict(task=\"translate\", **options)\n"
      ]
    },
    {
      "cell_type": "code",
      "execution_count": 15,
      "metadata": {
        "colab": {
          "base_uri": "https://localhost:8080/",
          "height": 49,
          "referenced_widgets": [
            "8cb4857b0f434c27956841bf0f8c44b9",
            "f30e106ad2d14ec89e1a042995377a0d",
            "fc811763a52341e2a3b1cde802dabe2a",
            "be49d709b2294f0aa466e6d22cde8fed",
            "b22667e2659c4b0d8341aab12eab2434",
            "f3fdabe93cf7449fbe2f1f7308f3a043",
            "1abb63ad1b48427ca24022a3d05d6139",
            "bde4b7894d864b4696fd5193a26f1e3e",
            "8af593fa80934fea80ad86152d4e89d2",
            "1605cef5e0b34fafbc1afaf7a68a2d27",
            "c49789f9e1114d9dae0a174defe7321f"
          ]
        },
        "id": "2MUAddZAmb4O",
        "outputId": "0659168a-06bf-4f29-b14d-260b05b04d0c"
      },
      "outputs": [
        {
          "output_type": "display_data",
          "data": {
            "text/plain": [
              "  0%|          | 0/39 [00:00<?, ?it/s]"
            ],
            "application/vnd.jupyter.widget-view+json": {
              "version_major": 2,
              "version_minor": 0,
              "model_id": "8cb4857b0f434c27956841bf0f8c44b9"
            }
          },
          "metadata": {}
        }
      ],
      "source": [
        "references = []\n",
        "transcriptions = []\n",
        "translations = []\n",
        "\n",
        "for audio, text in tqdm(dataset):\n",
        "    transcription = model.transcribe(audio, **transcribe_options,fp16 = False)[\"text\"]\n",
        "    translation = model.transcribe(audio, **translate_options,fp16 = False)[\"text\"]\n",
        "    \n",
        "    transcriptions.append(transcription)\n",
        "    translations.append(translation)\n",
        "    references.append(text)\n"
      ]
    },
    {
      "cell_type": "code",
      "execution_count": 16,
      "metadata": {
        "id": "LVbELo7DmfBa",
        "colab": {
          "base_uri": "https://localhost:8080/",
          "height": 1000
        },
        "outputId": "6459e9b1-e2e4-4bd0-ea76-e0a807b9ad2f"
      },
      "outputs": [
        {
          "output_type": "execute_result",
          "data": {
            "text/plain": [
              "                                                                                                                                       reference  \\\n",
              "0                                                                                  재입국 충격은 신혼 단계가 없기 때문에 문화 충격보다 빠르게 발생하며 더 오래 지속하고 더 극심할 수 있습니다   \n",
              "1                                                                                         불행히도 운전자의 행동이 100% 확실하다고 예측할 수 없기 때문에 교통 흐름을 연구하기란 어렵다   \n",
              "2                                                                                         합금은 기본적으로 금속 두 개 이상의 혼합물이다 주기율표 상에 원소가 많이 있다는 것을 잊지 마라   \n",
              "3                                                                                          홍콩 섬은 홍콩 영토에 홍콩이라는 이름을 부여한 곳이자 많은 관광객들이 주안점으로 여기는 곳이다   \n",
              "4                                                                                남자들을 단호히 거절하고 자신의 입장을 고수하는 것을 두려워하지 말라문화적 차이든 아니든 희롱은 간과될 수 없다!   \n",
              "5                                                                                        좀 더 작은 섬의 대부분은 독립 국가이거나 프랑스와 관련이 있고 호화로운 비치 리조트로 알려져 있다   \n",
              "6                                                                           사실 이게 존재한다는 사실을 아는 사람이 있다고 해도 찾는 것조차 쉽지 않습니다 일단 동굴 안에 들어가면 완전한 고립입니다   \n",
              "7                                                                                                     원단이 너무 뜨거워지지 않도록 주의하세요원단이 수축하거나 그을릴 수 있습니다   \n",
              "8                                                                           도널드 트럼프 미국 대통령은 늦은 일요일 시간대에 대변인을 통해 발표한 성명에서 미군이 시리아에서 철수할 것이라고 발표했다   \n",
              "9                                                         미국 체조 협회는 미국 올림픽 위원회의 서한을 지지하며 미국의 전 운동선수가 안전한 환경을 가질 수 있도록 돕는 올림픽 관계자의 절대적 필요성을 인정합니다   \n",
              "10  \"이건 작별 인사가 아닙니다. 이것은 한 장의 끝이며 새로운 장의 시작입니다.\"\\t \" \" 이 건 | 작 별 | 인 사 가 | 아 닙 니 다 . | 이 것 은 | 한 | 장 의 | 끝 이 며 | 새 로 운 | 장 의 | 시 작 입 니 다 . \" \" |   \n",
              "11                                                                    남아프리카 공화국의 특정 공원 또는 남아프리카 공화국 국립공원 전체에 입장할 수 있는 와일드 카드를 구매하는 것이 이득일 수 있습니다   \n",
              "12                                                                                   높은 고도나 산길을 넘어 운전하려고 하면 눈 빙판 또는 영하의 기온 등이 생길 가능성에 대해 고려해야 한다   \n",
              "13                                                                                       이 이야기에 관계된 두 명의 성인 자녀를 둔 기혼자인 듀발은 밀러에게 깊은 인상을 남기지 않았습니다   \n",
              "14                                                                                                  찬드라 셰카르 솔랑키 경찰서장은 피고인이 얼굴을 가린 채 법정에 나왔다고 말했다   \n",
              "15                                            지하철의 정규 안내 방송은 카탈로니아어로만 제공되나 계획에 없던 운행 중단 시에는 자동 시스템을 통해 스페인어 영어 프랑스어 아라비아어 일본어를 포함한 다양한 언어로 방송됩니다   \n",
              "16                                                                                                            그는 그 소문을 정치적 수다와 어리석음\"\"이라고 언급했습니다.   \n",
              "17                                                                                                    지구가 마치 움직이지 않는 것처럼 느껴지기에 언뜻 보면 맞는 말 같기도 하죠   \n",
              "18                                                                                               어린이와 노약자를 포함한 6명의 인질들은 필리핀 사진작가들과 마찬가지로 일찍 풀려났다   \n",
              "19                                                                                                           같은 줄을 따라 남자는 무릎을 덮는 바지를 입을 것을 요구받는다   \n",
              "20                                                                                                               그것은 기차와 자동차 및 여러 교통수단을 가져다주었습니다   \n",
              "21                                                               모로코 술탄은 다루 이 바드야daru l-badya라는 도시로 재건축하고 여기에 무역 거점을 세운 스페인 상인들은 이곳을 카사블랑카라고 불렀다   \n",
              "22                                                                                         비록 대부분 이론에 의존하긴 해도 프로그램은 궁수자리 은하 관측을 시뮬레이션하도록 짜여 있습니다   \n",
              "23                                                                                        아동이 위탁 보호를 받게 되는 이유는 방치에서 학대 심지어 강탈에 이르기까지 광범위하게 다양합니다   \n",
              "24                                                                                                             뇌 병리와 행동 사이의 상관관계가 과학자들의 연구를 돕습니다   \n",
              "25                                                                                            사람들은 귀국길에 오르는 여행객들에게도 인내심과 이해심이 필요하다고 생각하지 않을 수 있다   \n",
              "26                                                                                                             교전이 발발한 직후 영국은 독일에 대한 해상 봉쇄를 시작한다   \n",
              "27                                                                                               이렇게 되면 플레이어들이 장치를 허공에서 움직여 동작과 움직임을 제어할 수 있게 된다   \n",
              "28                                                                    스펙트럼의 또 다른 끝에서는 팀이 해오던 모든 것을 바꾸고 자신만의 방식으로 만들어야 한다고 생각하는 인지하지 못한 개인으로 바뀝니다   \n",
              "29                                                                                       피라미드 사운드와 광선 쇼는 이 지역에서 어린이들의 흥미를 가장 많이 끌어들이는 것들 중 하나입니다   \n",
              "30                                                                                                          장면들이 피라미드들 위에 비쳤고 다른 피라미드들에는 불이 밝혀졌다   \n",
              "31                                                                                              이곳은 남아프리카의 명소 중 하나로 남아프리카 국립 공원sanparks의 플래그십입니다   \n",
              "32                                                              아직도 존재하는 것으로 알려진 25개의 던랩 브로드 사이드는 이 문서의 남아있는 가장 오래된 사본이다 손으로 쓴 원본은 더 이상 남아 있지 않다   \n",
              "33                                                                                 상트페테르부르크 크루즈는 시내에서의 시간이 포함됩니다. 크루즈 승객은 비자 요건에서 제외됩니다약관을 확인하세요   \n",
              "34                                                블로그는 학생들의 글쓰기를 개선하는 데에도 도움이 됩니다 학생들이 종종 부족한 문법과 철자법으로 블로그를 시작하지만 독자들의 존재가 일반적으로 그러한 점들을 변화시킵니다   \n",
              "35                                                                                       델 포트로가 2세트에서 먼저 어드밴티지를 얻었지만 6 대 6이 된 후 다시 타이 브레이크가 필요했다   \n",
              "36                                                                                                                  이것은 몇몇 동사와 사물을 구별하는 중요한 방법이다   \n",
              "37                                                                                교회의 핵심 권력은 천 년 넘게 로마에 머물렀다 이런 힘과 돈의 편중은 이 교리가 합당한지에 대한 의문을 낳았다   \n",
              "38                                                                                 보고서는 행정부의 현재 이라크 정책에 대해 거의 모든 측면에서 매우 비판적이며 즉각적인 방향 변경을 촉구합니다   \n",
              "\n",
              "                                                                                           transcription  \\\n",
              "0                                        제 입국 충격은 신원 단계가 없기 때문에 무나 중격보다 빠르게 발색하며 더 오래 지속하고 더 극심할 수 있습니다.   \n",
              "1                                                불행이 또 운전자의 행동이 100% 확실하다고 예측할 수 없기 때문에 교통 그림을 연구하기란 어렵다   \n",
              "2                                                합금은 기본적으로 금속 2개 이상의 호남물이다. 주기울 표상의 원소가 많이 있다는 것을 잊지 말아.   \n",
              "3                                                 홍콩 사면 홍콩 영토의 홍콩이라는 이름을 부여한 곳이자 많은 관광객들이 주환점으로 여기는 곳이다.   \n",
              "4                                      남자들을 다녔이 거절하고 자신의 입장을 고수하는 것을 두려워하지 말라, 문화적 차이든 아니든 희롱은 간과될 수 없다.   \n",
              "5                                                 좀더 작은 섬의 대부분은 독립 국가이거나 프랑스와 관련이 있고 코아론 빛이 일주트로 알려져 있다.   \n",
              "6                                  사실 이게 존재한다는 사실을 아는 사람이 있다고 해도 찾는 것조차 쉽지 않습니다. 일단 동그란에 들어가면 완전한 고립입니다.   \n",
              "7                                                             원단이 너무 뜨거워지지 않도록 주의하세요 원단이 축하거나 그을일 수 있습니다   \n",
              "8                                  도넛도 트럼프 미국 대통령은 늦은 일요일 시간대에 대변인을 통해 발표한 성명에서 미국인 시리아에서 철수할 것이라고 발표했다.   \n",
              "9                 미국 최조협회는 미국 올림픽 위원회의 서안을 지지하며 미국의 전 운동선수가 안전한 환경을 가질 수 있도록 돕는 올림픽 관계자의 절대적 필요성을 인정합니다.   \n",
              "10                                                             이건 작별 인성아 아닙니다. 이것은 한장의 끝이며 새로운 작의 시작입니다.   \n",
              "11                           남아프리카 공화국의 특정 공원 또는 남아프리카 공화국 국립 공원 전체 입장할 수 있는 와일드 카드를 구매하는 것이 이득일 수 있습니다.   \n",
              "12                                          높은 고등화 산길을 넘어 운전하려고 하면 눈 빙판 또는 영화의 기온 등이 생길 가능성에 대해 고려해야 한다.   \n",
              "13                                              이 이야기의 관계된 두 명의 성인 잔여를 둔 기원자인 규발은 밀러에게 깊은 임상을 남기지 않았습니다.   \n",
              "14                                                        찬들아 쉐크를 솔란기 경차사장은 피고인이 얼굴을 바린 채 법적에 나왔다고 말합니다.   \n",
              "15   지하철의 정규완대 방송은 카찰로우니아 어로만 제공되나 계기 앞뒤는 중단 시에는 자동 시스템을 통해 스페이나 영어, 프랑서, 알라비아어, 일본어를 포함한 다양한 언어로 방송됩니다.   \n",
              "16                                                                         그의 소문을 정치적수다와 어리석은이라고 언급했습니다.   \n",
              "17                                                             지구가 마치 움직이지 않은 것처럼 느껴지게 언뜻보면 맞는 말 같기도 하죠?   \n",
              "18                                                   어린이와 노약자를 포함한 여섯 명의 인질들은 필리핀 사진 작가들과 마찬가지로 일찍 풀려놨다.   \n",
              "19                                                                  같은 줄을 따라 남자는 무릎을 덮는 바지를 입을 것을 요구받는다.   \n",
              "20                                                                     그곳은 기차와 차 동참이 여러 기통수단을 가져다 주었습니다.   \n",
              "21                                  모르코 슬타는 다루이 바드야라는 소시로 제건축하고 여기에 무역 거점에 세운 스페인 상인들은 이곳에 카사블랑 가라고 불렀다.   \n",
              "22                                                비록 대부분 이론에 의존하긴 해도 프로그램은 국수자리 은하관측을 10율라이션나도록 자여 있습니다.   \n",
              "23                                                아동이 위탁보를 받게 되는 이유는 방치에서 학대 심지어 강탈에 이루기까지 방법이 하게 다양합니다.   \n",
              "24                                                                      4병리와 행동사위의 상관관계가 과학자들의 연구를 돕습니다.   \n",
              "25                                                   사람들은 귀국길에 오르는 여행객들에게도 인내집과 이해심이 필요하다고 생각하지 않을 수 있다.   \n",
              "26                                                                     교전이 발발한 직후 영국은 독일에 대한 회상봉세를 시작한다.   \n",
              "27                                                       이렇게 되면 플레이어들이 장치를 허공해서 움직여 동작과 움직임을 제할 수 있게 된다.   \n",
              "28                           스펙트럼에 또 다른 끝에서는, 팀이 해오던 모든 것을 받고 자신만의 방식으로 만들어야 한다고 생각하는 인지하지 못한 개인으로 바뀝니다.   \n",
              "29                                               피라미드 사운드와 강선수는 이 지역에서 어린이들의 흥미를 가장 많이 끌어들이는 것들 중 하나입니다.   \n",
              "30                                                                  장면들이 피라미드들 위에 비쳤고 다른 피라미드들은 불이 밝혀졌다.   \n",
              "31                                                               이것은 남아프리카의 명조중 하나로 남아프리카 공리공원의 플래그십입니다.   \n",
              "32                     아직도 존재하는 것으로 알려진 25개의 덜레프로드 사이드는 이 문서의 남아 있는 가장 오래된 사본이다. 손으로 쓴 원보는 더 이상 남아있지 않다.   \n",
              "33                                            상트패드부르크 그룹은 시내에서의 시간이 포함됩니다. 그룹은 비자 욕관에서 제외됩니다. 약관을 확인하세요.   \n",
              "34      블록은은 학생들의 그 시기를 개선하는 데에도 도움이 됩니다. 학생들이 종종 부족한 문법과 철차법으로 블록을 시작하지만 독자들의 존재가 일반적으로 그러한 점들을 변화시킵니다.   \n",
              "35                                                대포트로가 이 세트에서 먼저 어두웨티지를 얻었지만 육대 육이든 후 다시 타이 브레이크가 필요했다.   \n",
              "36                                                                        이것은 몇 년 동사와 산물을 구별하는 중이완 방법이다.   \n",
              "37                                         교회의 핵심 권역은 10년 남계로 마에 머물렸다 이런 힘과 돈의 편중은 이 교회가 합당한지에 대한 의문을 났다   \n",
              "38                                        보고서는 행정부의 현재 이랗 그 정책에 대해 거의 모든 측면에서 매우 비판적이며 즉각적인 방향병경을 초코합니다.   \n",
              "\n",
              "                                                                                                                                                                                                                                                                     translation  \n",
              "0                                                                                              I am the justice of the people. We can only share with each other the Yappink grad is in blue. It can be you who Не or Alistair can beat you third place. Thank you for watching.  \n",
              "1                                                                                                                                               Brings are preserved local electric agency, so it means that hundreds of commodity students must have learned from murky powers.  \n",
              "2                                                                                                                                                                                                 Sometimes, we bear in front of our brain, There are a lot of cases lie there..  \n",
              "3                                                                                                                                                                                                        The King King is chosen to<|la|> from all together among the King King.  \n",
              "4                                                                       It is said that the men are not allowed to take care of their men, and that they are not allowed to take care of their children. It is said that the men are not allowed to take care of their children.  \n",
              "5                                                                                                                                                                                                                                                                            the  \n",
              "6                                                                                                        In fact, it is not easy to find a person who doesn't like it, but it is not easy to find it. If it is easy to find a person who doesn't like it, it is easy to find it.  \n",
              "7                                                                                                                                                                                                                     It is a common symbol of the custom architecture of Wanda.  \n",
              "8                                                                                                                 The harder to perform, the more learned students during Youtube and pretty today, it will keep in mind that Enfishably Sc someone would like to start studying  \n",
              "9                                                                                                                                                                          In a<|ko|> of South Korea–in a US-tenth place, it connects the eastern part of the North North Korea.  \n",
              "10                                                                                                                                                                                           This isn't a joke. This would be the end of this fight, moving on to the new party.  \n",
              "11   We can support Omak videos with approved instances of Lamer American Iniks Bean Pan, which will support us on YouTube's 4th and 4th Jul, is known for providing possibilites for Lake City, so please subscribe to our YouTube channel and help us have a good coronavirus.  \n",
              "12                                                                                                                                          Resconcerning the typed loading sequence. The loop outline of the loop is statement. Let's work firmly to see how it should be done.  \n",
              "13                                                                                                                                                                                              Just like this. The sound of the windshield cleaning, I did not feel goosebumps.  \n",
              "14                                                                                                                                                              The president-in-law who Motion for theONE of the president-in was about to start something Thank you very much.  \n",
              "15                                                    Dear, following this video, I have created an artist's channel The facts of our history of broken strategies that have participated during Season 1, which 40 hours of taking advantage of the natural person is repeated.  \n",
              "16                                                                                                                                                                                                                        But this time, I have not already arrived at the time.  \n",
              "17                                                                                                                                                                                                                                        It gets more and more involved, right?  \n",
              "18                                                                                                                                         There are 5 people taking pictures or photos of male evil women in the painting of porn contraceptive dating and cartoon solo videos.  \n",
              "19                                                                                                                                                                                                                                Add pattern and apply the pencil on your head.  \n",
              "20                                                                                                                                                                                           The sound of the dangerous lights and the sound of living quietly is very important  \n",
              "21                                                                                                                                                                                                                                   Sew on the edge right down with theوجa hat.  \n",
              "22                                                                                                                                                                             Now let's focus on a short reign of Pyok. This is a movie producer and fairy-tale fleet research.  \n",
              "23                                                                                                                                                                                                                   After closing the door, we enter the middle box in the sea.  \n",
              "24                                                                                                                                                                                                                                                                           the  \n",
              "25                                                                                                                                                                                People don't think it's hard to think about it, but I don't think it's hard to think about it.  \n",
              "26                                                                                                                                                                                                                                       First, we start meeting the US officer.  \n",
              "27                                                                                                                                                                                             If you are there, I wish I could solve the operation at the hard and hard moment.  \n",
              "28                                                                                                                                                                     With some heat, you can keep it in the system depending on the atmosphere you want to make a<|fi|> color.  \n",
              "29                                                                                                                                                                                   It's a good point to have the cool and awesome cognitive background contained in theになades.  \n",
              "30                                                                                                                                                                                                         The previous action competitions were set up when developingbiramids.  \n",
              "31                                                                                                                                                                                                         This is an American video, a American public, andpurpose1 typical job  \n",
              "32                                                                                                                    The online internet coverage is available on the 25thっ Returning time, I'm setting You the lowest in speed. It's the lowest in speed of the waterproof בר.  \n",
              "33                                                                                                                                      The sound of stパルブows will be more quiet than the complete performance. It is said to be better than JaeYeol. Please look forward to it.  \n",
              "34                                                                                                                    Let the blood rate spreads to a higher degree. It would be nice if you start it with deeper blood. These are the instructions to express that information.  \n",
              "35                                                                                                                                                                                                        If you write or displayed on your notebook, you may need a type break.  \n",
              "36                                                                                                                                                                                                    This kind of men or 4 or 3 days, most people are always dressed different.  \n",
              "37                                                                                                                                           This is the first time I've been living in Korea for a long time. This is the first time I've been living in Korea for a long time.  \n",
              "38                                                                                                                                                                Please check it out. I need aspeed of separationion due to it. Stop the defiance of the anti-corseal language.  "
            ],
            "text/html": [
              "\n",
              "  <div id=\"df-188b6d44-b9a3-4b0c-83b0-b57081d46897\">\n",
              "    <div class=\"colab-df-container\">\n",
              "      <div>\n",
              "<style scoped>\n",
              "    .dataframe tbody tr th:only-of-type {\n",
              "        vertical-align: middle;\n",
              "    }\n",
              "\n",
              "    .dataframe tbody tr th {\n",
              "        vertical-align: top;\n",
              "    }\n",
              "\n",
              "    .dataframe thead th {\n",
              "        text-align: right;\n",
              "    }\n",
              "</style>\n",
              "<table border=\"1\" class=\"dataframe\">\n",
              "  <thead>\n",
              "    <tr style=\"text-align: right;\">\n",
              "      <th></th>\n",
              "      <th>reference</th>\n",
              "      <th>transcription</th>\n",
              "      <th>translation</th>\n",
              "    </tr>\n",
              "  </thead>\n",
              "  <tbody>\n",
              "    <tr>\n",
              "      <th>0</th>\n",
              "      <td>재입국 충격은 신혼 단계가 없기 때문에 문화 충격보다 빠르게 발생하며 더 오래 지속하고 더 극심할 수 있습니다</td>\n",
              "      <td>제 입국 충격은 신원 단계가 없기 때문에 무나 중격보다 빠르게 발색하며 더 오래 지속하고 더 극심할 수 있습니다.</td>\n",
              "      <td>I am the justice of the people. We can only share with each other the Yappink grad is in blue. It can be you who Не or Alistair can beat you third place. Thank you for watching.</td>\n",
              "    </tr>\n",
              "    <tr>\n",
              "      <th>1</th>\n",
              "      <td>불행히도 운전자의 행동이 100% 확실하다고 예측할 수 없기 때문에 교통 흐름을 연구하기란 어렵다</td>\n",
              "      <td>불행이 또 운전자의 행동이 100% 확실하다고 예측할 수 없기 때문에 교통 그림을 연구하기란 어렵다</td>\n",
              "      <td>Brings are preserved local electric agency, so it means that hundreds of commodity students must have learned from murky powers.</td>\n",
              "    </tr>\n",
              "    <tr>\n",
              "      <th>2</th>\n",
              "      <td>합금은 기본적으로 금속 두 개 이상의 혼합물이다 주기율표 상에 원소가 많이 있다는 것을 잊지 마라</td>\n",
              "      <td>합금은 기본적으로 금속 2개 이상의 호남물이다. 주기울 표상의 원소가 많이 있다는 것을 잊지 말아.</td>\n",
              "      <td>Sometimes, we bear in front of our brain, There are a lot of cases lie there..</td>\n",
              "    </tr>\n",
              "    <tr>\n",
              "      <th>3</th>\n",
              "      <td>홍콩 섬은 홍콩 영토에 홍콩이라는 이름을 부여한 곳이자 많은 관광객들이 주안점으로 여기는 곳이다</td>\n",
              "      <td>홍콩 사면 홍콩 영토의 홍콩이라는 이름을 부여한 곳이자 많은 관광객들이 주환점으로 여기는 곳이다.</td>\n",
              "      <td>The King King is chosen to&lt;|la|&gt; from all together among the King King.</td>\n",
              "    </tr>\n",
              "    <tr>\n",
              "      <th>4</th>\n",
              "      <td>남자들을 단호히 거절하고 자신의 입장을 고수하는 것을 두려워하지 말라문화적 차이든 아니든 희롱은 간과될 수 없다!</td>\n",
              "      <td>남자들을 다녔이 거절하고 자신의 입장을 고수하는 것을 두려워하지 말라, 문화적 차이든 아니든 희롱은 간과될 수 없다.</td>\n",
              "      <td>It is said that the men are not allowed to take care of their men, and that they are not allowed to take care of their children. It is said that the men are not allowed to take care of their children.</td>\n",
              "    </tr>\n",
              "    <tr>\n",
              "      <th>5</th>\n",
              "      <td>좀 더 작은 섬의 대부분은 독립 국가이거나 프랑스와 관련이 있고 호화로운 비치 리조트로 알려져 있다</td>\n",
              "      <td>좀더 작은 섬의 대부분은 독립 국가이거나 프랑스와 관련이 있고 코아론 빛이 일주트로 알려져 있다.</td>\n",
              "      <td>the</td>\n",
              "    </tr>\n",
              "    <tr>\n",
              "      <th>6</th>\n",
              "      <td>사실 이게 존재한다는 사실을 아는 사람이 있다고 해도 찾는 것조차 쉽지 않습니다 일단 동굴 안에 들어가면 완전한 고립입니다</td>\n",
              "      <td>사실 이게 존재한다는 사실을 아는 사람이 있다고 해도 찾는 것조차 쉽지 않습니다. 일단 동그란에 들어가면 완전한 고립입니다.</td>\n",
              "      <td>In fact, it is not easy to find a person who doesn't like it, but it is not easy to find it. If it is easy to find a person who doesn't like it, it is easy to find it.</td>\n",
              "    </tr>\n",
              "    <tr>\n",
              "      <th>7</th>\n",
              "      <td>원단이 너무 뜨거워지지 않도록 주의하세요원단이 수축하거나 그을릴 수 있습니다</td>\n",
              "      <td>원단이 너무 뜨거워지지 않도록 주의하세요 원단이 축하거나 그을일 수 있습니다</td>\n",
              "      <td>It is a common symbol of the custom architecture of Wanda.</td>\n",
              "    </tr>\n",
              "    <tr>\n",
              "      <th>8</th>\n",
              "      <td>도널드 트럼프 미국 대통령은 늦은 일요일 시간대에 대변인을 통해 발표한 성명에서 미군이 시리아에서 철수할 것이라고 발표했다</td>\n",
              "      <td>도넛도 트럼프 미국 대통령은 늦은 일요일 시간대에 대변인을 통해 발표한 성명에서 미국인 시리아에서 철수할 것이라고 발표했다.</td>\n",
              "      <td>The harder to perform, the more learned students during Youtube and pretty today, it will keep in mind that Enfishably Sc someone would like to start studying</td>\n",
              "    </tr>\n",
              "    <tr>\n",
              "      <th>9</th>\n",
              "      <td>미국 체조 협회는 미국 올림픽 위원회의 서한을 지지하며 미국의 전 운동선수가 안전한 환경을 가질 수 있도록 돕는 올림픽 관계자의 절대적 필요성을 인정합니다</td>\n",
              "      <td>미국 최조협회는 미국 올림픽 위원회의 서안을 지지하며 미국의 전 운동선수가 안전한 환경을 가질 수 있도록 돕는 올림픽 관계자의 절대적 필요성을 인정합니다.</td>\n",
              "      <td>In a&lt;|ko|&gt; of South Korea–in a US-tenth place, it connects the eastern part of the North North Korea.</td>\n",
              "    </tr>\n",
              "    <tr>\n",
              "      <th>10</th>\n",
              "      <td>\"이건 작별 인사가 아닙니다. 이것은 한 장의 끝이며 새로운 장의 시작입니다.\"\\t \" \" 이 건 | 작 별 | 인 사 가 | 아 닙 니 다 . | 이 것 은 | 한 | 장 의 | 끝 이 며 | 새 로 운 | 장 의 | 시 작 입 니 다 . \" \" |</td>\n",
              "      <td>이건 작별 인성아 아닙니다. 이것은 한장의 끝이며 새로운 작의 시작입니다.</td>\n",
              "      <td>This isn't a joke. This would be the end of this fight, moving on to the new party.</td>\n",
              "    </tr>\n",
              "    <tr>\n",
              "      <th>11</th>\n",
              "      <td>남아프리카 공화국의 특정 공원 또는 남아프리카 공화국 국립공원 전체에 입장할 수 있는 와일드 카드를 구매하는 것이 이득일 수 있습니다</td>\n",
              "      <td>남아프리카 공화국의 특정 공원 또는 남아프리카 공화국 국립 공원 전체 입장할 수 있는 와일드 카드를 구매하는 것이 이득일 수 있습니다.</td>\n",
              "      <td>We can support Omak videos with approved instances of Lamer American Iniks Bean Pan, which will support us on YouTube's 4th and 4th Jul, is known for providing possibilites for Lake City, so please subscribe to our YouTube channel and help us have a good coronavirus.</td>\n",
              "    </tr>\n",
              "    <tr>\n",
              "      <th>12</th>\n",
              "      <td>높은 고도나 산길을 넘어 운전하려고 하면 눈 빙판 또는 영하의 기온 등이 생길 가능성에 대해 고려해야 한다</td>\n",
              "      <td>높은 고등화 산길을 넘어 운전하려고 하면 눈 빙판 또는 영화의 기온 등이 생길 가능성에 대해 고려해야 한다.</td>\n",
              "      <td>Resconcerning the typed loading sequence. The loop outline of the loop is statement. Let's work firmly to see how it should be done.</td>\n",
              "    </tr>\n",
              "    <tr>\n",
              "      <th>13</th>\n",
              "      <td>이 이야기에 관계된 두 명의 성인 자녀를 둔 기혼자인 듀발은 밀러에게 깊은 인상을 남기지 않았습니다</td>\n",
              "      <td>이 이야기의 관계된 두 명의 성인 잔여를 둔 기원자인 규발은 밀러에게 깊은 임상을 남기지 않았습니다.</td>\n",
              "      <td>Just like this. The sound of the windshield cleaning, I did not feel goosebumps.</td>\n",
              "    </tr>\n",
              "    <tr>\n",
              "      <th>14</th>\n",
              "      <td>찬드라 셰카르 솔랑키 경찰서장은 피고인이 얼굴을 가린 채 법정에 나왔다고 말했다</td>\n",
              "      <td>찬들아 쉐크를 솔란기 경차사장은 피고인이 얼굴을 바린 채 법적에 나왔다고 말합니다.</td>\n",
              "      <td>The president-in-law who Motion for theONE of the president-in was about to start something Thank you very much.</td>\n",
              "    </tr>\n",
              "    <tr>\n",
              "      <th>15</th>\n",
              "      <td>지하철의 정규 안내 방송은 카탈로니아어로만 제공되나 계획에 없던 운행 중단 시에는 자동 시스템을 통해 스페인어 영어 프랑스어 아라비아어 일본어를 포함한 다양한 언어로 방송됩니다</td>\n",
              "      <td>지하철의 정규완대 방송은 카찰로우니아 어로만 제공되나 계기 앞뒤는 중단 시에는 자동 시스템을 통해 스페이나 영어, 프랑서, 알라비아어, 일본어를 포함한 다양한 언어로 방송됩니다.</td>\n",
              "      <td>Dear, following this video, I have created an artist's channel The facts of our history of broken strategies that have participated during Season 1, which 40 hours of taking advantage of the natural person is repeated.</td>\n",
              "    </tr>\n",
              "    <tr>\n",
              "      <th>16</th>\n",
              "      <td>그는 그 소문을 정치적 수다와 어리석음\"\"이라고 언급했습니다.</td>\n",
              "      <td>그의 소문을 정치적수다와 어리석은이라고 언급했습니다.</td>\n",
              "      <td>But this time, I have not already arrived at the time.</td>\n",
              "    </tr>\n",
              "    <tr>\n",
              "      <th>17</th>\n",
              "      <td>지구가 마치 움직이지 않는 것처럼 느껴지기에 언뜻 보면 맞는 말 같기도 하죠</td>\n",
              "      <td>지구가 마치 움직이지 않은 것처럼 느껴지게 언뜻보면 맞는 말 같기도 하죠?</td>\n",
              "      <td>It gets more and more involved, right?</td>\n",
              "    </tr>\n",
              "    <tr>\n",
              "      <th>18</th>\n",
              "      <td>어린이와 노약자를 포함한 6명의 인질들은 필리핀 사진작가들과 마찬가지로 일찍 풀려났다</td>\n",
              "      <td>어린이와 노약자를 포함한 여섯 명의 인질들은 필리핀 사진 작가들과 마찬가지로 일찍 풀려놨다.</td>\n",
              "      <td>There are 5 people taking pictures or photos of male evil women in the painting of porn contraceptive dating and cartoon solo videos.</td>\n",
              "    </tr>\n",
              "    <tr>\n",
              "      <th>19</th>\n",
              "      <td>같은 줄을 따라 남자는 무릎을 덮는 바지를 입을 것을 요구받는다</td>\n",
              "      <td>같은 줄을 따라 남자는 무릎을 덮는 바지를 입을 것을 요구받는다.</td>\n",
              "      <td>Add pattern and apply the pencil on your head.</td>\n",
              "    </tr>\n",
              "    <tr>\n",
              "      <th>20</th>\n",
              "      <td>그것은 기차와 자동차 및 여러 교통수단을 가져다주었습니다</td>\n",
              "      <td>그곳은 기차와 차 동참이 여러 기통수단을 가져다 주었습니다.</td>\n",
              "      <td>The sound of the dangerous lights and the sound of living quietly is very important</td>\n",
              "    </tr>\n",
              "    <tr>\n",
              "      <th>21</th>\n",
              "      <td>모로코 술탄은 다루 이 바드야daru l-badya라는 도시로 재건축하고 여기에 무역 거점을 세운 스페인 상인들은 이곳을 카사블랑카라고 불렀다</td>\n",
              "      <td>모르코 슬타는 다루이 바드야라는 소시로 제건축하고 여기에 무역 거점에 세운 스페인 상인들은 이곳에 카사블랑 가라고 불렀다.</td>\n",
              "      <td>Sew on the edge right down with theوجa hat.</td>\n",
              "    </tr>\n",
              "    <tr>\n",
              "      <th>22</th>\n",
              "      <td>비록 대부분 이론에 의존하긴 해도 프로그램은 궁수자리 은하 관측을 시뮬레이션하도록 짜여 있습니다</td>\n",
              "      <td>비록 대부분 이론에 의존하긴 해도 프로그램은 국수자리 은하관측을 10율라이션나도록 자여 있습니다.</td>\n",
              "      <td>Now let's focus on a short reign of Pyok. This is a movie producer and fairy-tale fleet research.</td>\n",
              "    </tr>\n",
              "    <tr>\n",
              "      <th>23</th>\n",
              "      <td>아동이 위탁 보호를 받게 되는 이유는 방치에서 학대 심지어 강탈에 이르기까지 광범위하게 다양합니다</td>\n",
              "      <td>아동이 위탁보를 받게 되는 이유는 방치에서 학대 심지어 강탈에 이루기까지 방법이 하게 다양합니다.</td>\n",
              "      <td>After closing the door, we enter the middle box in the sea.</td>\n",
              "    </tr>\n",
              "    <tr>\n",
              "      <th>24</th>\n",
              "      <td>뇌 병리와 행동 사이의 상관관계가 과학자들의 연구를 돕습니다</td>\n",
              "      <td>4병리와 행동사위의 상관관계가 과학자들의 연구를 돕습니다.</td>\n",
              "      <td>the</td>\n",
              "    </tr>\n",
              "    <tr>\n",
              "      <th>25</th>\n",
              "      <td>사람들은 귀국길에 오르는 여행객들에게도 인내심과 이해심이 필요하다고 생각하지 않을 수 있다</td>\n",
              "      <td>사람들은 귀국길에 오르는 여행객들에게도 인내집과 이해심이 필요하다고 생각하지 않을 수 있다.</td>\n",
              "      <td>People don't think it's hard to think about it, but I don't think it's hard to think about it.</td>\n",
              "    </tr>\n",
              "    <tr>\n",
              "      <th>26</th>\n",
              "      <td>교전이 발발한 직후 영국은 독일에 대한 해상 봉쇄를 시작한다</td>\n",
              "      <td>교전이 발발한 직후 영국은 독일에 대한 회상봉세를 시작한다.</td>\n",
              "      <td>First, we start meeting the US officer.</td>\n",
              "    </tr>\n",
              "    <tr>\n",
              "      <th>27</th>\n",
              "      <td>이렇게 되면 플레이어들이 장치를 허공에서 움직여 동작과 움직임을 제어할 수 있게 된다</td>\n",
              "      <td>이렇게 되면 플레이어들이 장치를 허공해서 움직여 동작과 움직임을 제할 수 있게 된다.</td>\n",
              "      <td>If you are there, I wish I could solve the operation at the hard and hard moment.</td>\n",
              "    </tr>\n",
              "    <tr>\n",
              "      <th>28</th>\n",
              "      <td>스펙트럼의 또 다른 끝에서는 팀이 해오던 모든 것을 바꾸고 자신만의 방식으로 만들어야 한다고 생각하는 인지하지 못한 개인으로 바뀝니다</td>\n",
              "      <td>스펙트럼에 또 다른 끝에서는, 팀이 해오던 모든 것을 받고 자신만의 방식으로 만들어야 한다고 생각하는 인지하지 못한 개인으로 바뀝니다.</td>\n",
              "      <td>With some heat, you can keep it in the system depending on the atmosphere you want to make a&lt;|fi|&gt; color.</td>\n",
              "    </tr>\n",
              "    <tr>\n",
              "      <th>29</th>\n",
              "      <td>피라미드 사운드와 광선 쇼는 이 지역에서 어린이들의 흥미를 가장 많이 끌어들이는 것들 중 하나입니다</td>\n",
              "      <td>피라미드 사운드와 강선수는 이 지역에서 어린이들의 흥미를 가장 많이 끌어들이는 것들 중 하나입니다.</td>\n",
              "      <td>It's a good point to have the cool and awesome cognitive background contained in theになades.</td>\n",
              "    </tr>\n",
              "    <tr>\n",
              "      <th>30</th>\n",
              "      <td>장면들이 피라미드들 위에 비쳤고 다른 피라미드들에는 불이 밝혀졌다</td>\n",
              "      <td>장면들이 피라미드들 위에 비쳤고 다른 피라미드들은 불이 밝혀졌다.</td>\n",
              "      <td>The previous action competitions were set up when developingbiramids.</td>\n",
              "    </tr>\n",
              "    <tr>\n",
              "      <th>31</th>\n",
              "      <td>이곳은 남아프리카의 명소 중 하나로 남아프리카 국립 공원sanparks의 플래그십입니다</td>\n",
              "      <td>이것은 남아프리카의 명조중 하나로 남아프리카 공리공원의 플래그십입니다.</td>\n",
              "      <td>This is an American video, a American public, andpurpose1 typical job</td>\n",
              "    </tr>\n",
              "    <tr>\n",
              "      <th>32</th>\n",
              "      <td>아직도 존재하는 것으로 알려진 25개의 던랩 브로드 사이드는 이 문서의 남아있는 가장 오래된 사본이다 손으로 쓴 원본은 더 이상 남아 있지 않다</td>\n",
              "      <td>아직도 존재하는 것으로 알려진 25개의 덜레프로드 사이드는 이 문서의 남아 있는 가장 오래된 사본이다. 손으로 쓴 원보는 더 이상 남아있지 않다.</td>\n",
              "      <td>The online internet coverage is available on the 25thっ Returning time, I'm setting You the lowest in speed. It's the lowest in speed of the waterproof בר.</td>\n",
              "    </tr>\n",
              "    <tr>\n",
              "      <th>33</th>\n",
              "      <td>상트페테르부르크 크루즈는 시내에서의 시간이 포함됩니다. 크루즈 승객은 비자 요건에서 제외됩니다약관을 확인하세요</td>\n",
              "      <td>상트패드부르크 그룹은 시내에서의 시간이 포함됩니다. 그룹은 비자 욕관에서 제외됩니다. 약관을 확인하세요.</td>\n",
              "      <td>The sound of stパルブows will be more quiet than the complete performance. It is said to be better than JaeYeol. Please look forward to it.</td>\n",
              "    </tr>\n",
              "    <tr>\n",
              "      <th>34</th>\n",
              "      <td>블로그는 학생들의 글쓰기를 개선하는 데에도 도움이 됩니다 학생들이 종종 부족한 문법과 철자법으로 블로그를 시작하지만 독자들의 존재가 일반적으로 그러한 점들을 변화시킵니다</td>\n",
              "      <td>블록은은 학생들의 그 시기를 개선하는 데에도 도움이 됩니다. 학생들이 종종 부족한 문법과 철차법으로 블록을 시작하지만 독자들의 존재가 일반적으로 그러한 점들을 변화시킵니다.</td>\n",
              "      <td>Let the blood rate spreads to a higher degree. It would be nice if you start it with deeper blood. These are the instructions to express that information.</td>\n",
              "    </tr>\n",
              "    <tr>\n",
              "      <th>35</th>\n",
              "      <td>델 포트로가 2세트에서 먼저 어드밴티지를 얻었지만 6 대 6이 된 후 다시 타이 브레이크가 필요했다</td>\n",
              "      <td>대포트로가 이 세트에서 먼저 어두웨티지를 얻었지만 육대 육이든 후 다시 타이 브레이크가 필요했다.</td>\n",
              "      <td>If you write or displayed on your notebook, you may need a type break.</td>\n",
              "    </tr>\n",
              "    <tr>\n",
              "      <th>36</th>\n",
              "      <td>이것은 몇몇 동사와 사물을 구별하는 중요한 방법이다</td>\n",
              "      <td>이것은 몇 년 동사와 산물을 구별하는 중이완 방법이다.</td>\n",
              "      <td>This kind of men or 4 or 3 days, most people are always dressed different.</td>\n",
              "    </tr>\n",
              "    <tr>\n",
              "      <th>37</th>\n",
              "      <td>교회의 핵심 권력은 천 년 넘게 로마에 머물렀다 이런 힘과 돈의 편중은 이 교리가 합당한지에 대한 의문을 낳았다</td>\n",
              "      <td>교회의 핵심 권역은 10년 남계로 마에 머물렸다 이런 힘과 돈의 편중은 이 교회가 합당한지에 대한 의문을 났다</td>\n",
              "      <td>This is the first time I've been living in Korea for a long time. This is the first time I've been living in Korea for a long time.</td>\n",
              "    </tr>\n",
              "    <tr>\n",
              "      <th>38</th>\n",
              "      <td>보고서는 행정부의 현재 이라크 정책에 대해 거의 모든 측면에서 매우 비판적이며 즉각적인 방향 변경을 촉구합니다</td>\n",
              "      <td>보고서는 행정부의 현재 이랗 그 정책에 대해 거의 모든 측면에서 매우 비판적이며 즉각적인 방향병경을 초코합니다.</td>\n",
              "      <td>Please check it out. I need aspeed of separationion due to it. Stop the defiance of the anti-corseal language.</td>\n",
              "    </tr>\n",
              "  </tbody>\n",
              "</table>\n",
              "</div>\n",
              "      <button class=\"colab-df-convert\" onclick=\"convertToInteractive('df-188b6d44-b9a3-4b0c-83b0-b57081d46897')\"\n",
              "              title=\"Convert this dataframe to an interactive table.\"\n",
              "              style=\"display:none;\">\n",
              "        \n",
              "  <svg xmlns=\"http://www.w3.org/2000/svg\" height=\"24px\"viewBox=\"0 0 24 24\"\n",
              "       width=\"24px\">\n",
              "    <path d=\"M0 0h24v24H0V0z\" fill=\"none\"/>\n",
              "    <path d=\"M18.56 5.44l.94 2.06.94-2.06 2.06-.94-2.06-.94-.94-2.06-.94 2.06-2.06.94zm-11 1L8.5 8.5l.94-2.06 2.06-.94-2.06-.94L8.5 2.5l-.94 2.06-2.06.94zm10 10l.94 2.06.94-2.06 2.06-.94-2.06-.94-.94-2.06-.94 2.06-2.06.94z\"/><path d=\"M17.41 7.96l-1.37-1.37c-.4-.4-.92-.59-1.43-.59-.52 0-1.04.2-1.43.59L10.3 9.45l-7.72 7.72c-.78.78-.78 2.05 0 2.83L4 21.41c.39.39.9.59 1.41.59.51 0 1.02-.2 1.41-.59l7.78-7.78 2.81-2.81c.8-.78.8-2.07 0-2.86zM5.41 20L4 18.59l7.72-7.72 1.47 1.35L5.41 20z\"/>\n",
              "  </svg>\n",
              "      </button>\n",
              "      \n",
              "  <style>\n",
              "    .colab-df-container {\n",
              "      display:flex;\n",
              "      flex-wrap:wrap;\n",
              "      gap: 12px;\n",
              "    }\n",
              "\n",
              "    .colab-df-convert {\n",
              "      background-color: #E8F0FE;\n",
              "      border: none;\n",
              "      border-radius: 50%;\n",
              "      cursor: pointer;\n",
              "      display: none;\n",
              "      fill: #1967D2;\n",
              "      height: 32px;\n",
              "      padding: 0 0 0 0;\n",
              "      width: 32px;\n",
              "    }\n",
              "\n",
              "    .colab-df-convert:hover {\n",
              "      background-color: #E2EBFA;\n",
              "      box-shadow: 0px 1px 2px rgba(60, 64, 67, 0.3), 0px 1px 3px 1px rgba(60, 64, 67, 0.15);\n",
              "      fill: #174EA6;\n",
              "    }\n",
              "\n",
              "    [theme=dark] .colab-df-convert {\n",
              "      background-color: #3B4455;\n",
              "      fill: #D2E3FC;\n",
              "    }\n",
              "\n",
              "    [theme=dark] .colab-df-convert:hover {\n",
              "      background-color: #434B5C;\n",
              "      box-shadow: 0px 1px 3px 1px rgba(0, 0, 0, 0.15);\n",
              "      filter: drop-shadow(0px 1px 2px rgba(0, 0, 0, 0.3));\n",
              "      fill: #FFFFFF;\n",
              "    }\n",
              "  </style>\n",
              "\n",
              "      <script>\n",
              "        const buttonEl =\n",
              "          document.querySelector('#df-188b6d44-b9a3-4b0c-83b0-b57081d46897 button.colab-df-convert');\n",
              "        buttonEl.style.display =\n",
              "          google.colab.kernel.accessAllowed ? 'block' : 'none';\n",
              "\n",
              "        async function convertToInteractive(key) {\n",
              "          const element = document.querySelector('#df-188b6d44-b9a3-4b0c-83b0-b57081d46897');\n",
              "          const dataTable =\n",
              "            await google.colab.kernel.invokeFunction('convertToInteractive',\n",
              "                                                     [key], {});\n",
              "          if (!dataTable) return;\n",
              "\n",
              "          const docLinkHtml = 'Like what you see? Visit the ' +\n",
              "            '<a target=\"_blank\" href=https://colab.research.google.com/notebooks/data_table.ipynb>data table notebook</a>'\n",
              "            + ' to learn more about interactive tables.';\n",
              "          element.innerHTML = '';\n",
              "          dataTable['output_type'] = 'display_data';\n",
              "          await google.colab.output.renderOutput(dataTable, element);\n",
              "          const docLink = document.createElement('div');\n",
              "          docLink.innerHTML = docLinkHtml;\n",
              "          element.appendChild(docLink);\n",
              "        }\n",
              "      </script>\n",
              "    </div>\n",
              "  </div>\n",
              "  "
            ]
          },
          "metadata": {},
          "execution_count": 16
        }
      ],
      "source": [
        "data = pd.DataFrame(dict(reference=references, transcription=transcriptions, translation=translations))\n",
        "data  "
      ]
    },
    {
      "cell_type": "code",
      "source": [
        "import streamlit as st"
      ],
      "metadata": {
        "id": "NW7MgFqe9JQj"
      },
      "execution_count": 19,
      "outputs": []
    },
    {
      "cell_type": "code",
      "source": [
        "%%writefile streamlit_app.py\n",
        "import streamlit as st\n",
        "import whisper\n",
        "import numpy as np\n",
        "import ffmpeg\n",
        "import torch\n",
        "import torchaudio\n",
        "from tempfile import NamedTemporaryFile\n",
        "\n",
        "st.title(\"Audio to Text Mulilingual\")\n",
        "\n",
        "##Upload audio file with streamlit\n",
        "audio_file = st.file_uploader(\"Upload Audio\", type = [\"wav\",\"mp3\",\"m4a\"])\n",
        "\n",
        "model = whisper.load_model(\"tiny\")\n",
        "print(\n",
        "    f\"Model is {'multilingual' if model.is_multilingual else 'English-only'} \"\n",
        "    f\"and has {sum(np.prod(p.shape) for p in model.parameters()):,} parameters.\"\n",
        ")\n",
        "\n",
        "st.text(\"Whisper model loaded\")\n",
        "\n",
        "if st.sidebar.button(\"Transcribe Audio\"):\n",
        "  if audio_file is not  None:\n",
        "    st.sidebar.success(\"Transcribing audio\")\n",
        "    with NamedTemporaryFile(suffix=\"mp3\") as temp:\n",
        "        temp.write(audio_file.getvalue())\n",
        "        temp.seek(0)\n",
        "        transcription = model.transcribe(temp.name)\n",
        "\n",
        "    st.sidebar.success(\"Transcription Complete\")\n",
        "    st.markdown(transcription[\"text\"])\n",
        "  else:\n",
        "    st.sidebar.error(\"Please upload an audio file\")\n",
        "\n",
        "st.sidebar.header(\"Play an original audio file\")\n",
        "st.sidebar.audio(audio_file)    \n",
        "\n",
        "\n"
      ],
      "metadata": {
        "id": "6rm-YG04O8Mu",
        "outputId": "020b2c01-4d51-403c-bb8d-bdfca05734ac",
        "colab": {
          "base_uri": "https://localhost:8080/"
        }
      },
      "execution_count": 55,
      "outputs": [
        {
          "output_type": "stream",
          "name": "stdout",
          "text": [
            "Overwriting streamlit_app.py\n"
          ]
        }
      ]
    },
    {
      "cell_type": "code",
      "source": [
        "!pip install pyngrok\n"
      ],
      "metadata": {
        "id": "FKwbMCJ1RarL",
        "outputId": "c3e56bf1-bd5f-4054-9dba-9b645fc065a7",
        "colab": {
          "base_uri": "https://localhost:8080/"
        }
      },
      "execution_count": 21,
      "outputs": [
        {
          "output_type": "stream",
          "name": "stdout",
          "text": [
            "Looking in indexes: https://pypi.org/simple, https://us-python.pkg.dev/colab-wheels/public/simple/\n",
            "Collecting pyngrok\n",
            "  Downloading pyngrok-5.2.1.tar.gz (761 kB)\n",
            "\u001b[K     |████████████████████████████████| 761 kB 7.4 MB/s \n",
            "\u001b[?25hRequirement already satisfied: PyYAML in /usr/local/lib/python3.8/dist-packages (from pyngrok) (6.0)\n",
            "Building wheels for collected packages: pyngrok\n",
            "  Building wheel for pyngrok (setup.py) ... \u001b[?25l\u001b[?25hdone\n",
            "  Created wheel for pyngrok: filename=pyngrok-5.2.1-py3-none-any.whl size=19771 sha256=84a19f3ca5e5ed022e4cf88cba8535c33de8b0c5567071c13cbbc271d70ebbbc\n",
            "  Stored in directory: /root/.cache/pip/wheels/5d/f2/70/526da675d32f17577ec47ac4c663084efe39d47c826b6c3bb1\n",
            "Successfully built pyngrok\n",
            "Installing collected packages: pyngrok\n",
            "Successfully installed pyngrok-5.2.1\n"
          ]
        }
      ]
    },
    {
      "cell_type": "code",
      "source": [
        "!./ngrok authtokens 2Iu0UnRREMjvAYKSXNoYglGW03F_4pz1x6DMm8BjTBMcaJWGE"
      ],
      "metadata": {
        "id": "TtiM4Tt-VPoc",
        "outputId": "a151e841-9ab5-42e3-fad0-1de72888cadf",
        "colab": {
          "base_uri": "https://localhost:8080/"
        }
      },
      "execution_count": 30,
      "outputs": [
        {
          "output_type": "stream",
          "name": "stdout",
          "text": [
            "/bin/bash: ./ngrok: No such file or directory\n"
          ]
        }
      ]
    },
    {
      "cell_type": "code",
      "source": [
        "\n",
        "from pyngrok import ngrok\n",
        "public_url = ngrok.connect(port='8501')\n",
        "public_url"
      ],
      "metadata": {
        "id": "4T8XCRUYS1dl",
        "outputId": "51b8af55-32f2-4fc1-93cd-56166bd35a3c",
        "colab": {
          "base_uri": "https://localhost:8080/"
        }
      },
      "execution_count": 36,
      "outputs": [
        {
          "output_type": "stream",
          "name": "stderr",
          "text": [
            "INFO:pyngrok.ngrok:Opening tunnel named: http-80-911b5f50-bd6c-416f-8358-140fd4074f7c\n",
            "2022-12-14 11:15:46.417 Opening tunnel named: http-80-911b5f50-bd6c-416f-8358-140fd4074f7c\n",
            "INFO:pyngrok.process.ngrok:t=2022-12-14T11:15:46+0000 lvl=info msg=\"no configuration paths supplied\"\n",
            "2022-12-14 11:15:46.486 t=2022-12-14T11:15:46+0000 lvl=info msg=\"no configuration paths supplied\"\n",
            "INFO:pyngrok.process.ngrok:t=2022-12-14T11:15:46+0000 lvl=info msg=\"using configuration at default config path\" path=/root/.ngrok2/ngrok.yml\n",
            "2022-12-14 11:15:46.492 t=2022-12-14T11:15:46+0000 lvl=info msg=\"using configuration at default config path\" path=/root/.ngrok2/ngrok.yml\n",
            "INFO:pyngrok.process.ngrok:t=2022-12-14T11:15:46+0000 lvl=info msg=\"open config file\" path=/root/.ngrok2/ngrok.yml err=nil\n",
            "2022-12-14 11:15:46.495 t=2022-12-14T11:15:46+0000 lvl=info msg=\"open config file\" path=/root/.ngrok2/ngrok.yml err=nil\n",
            "INFO:pyngrok.process.ngrok:t=2022-12-14T11:15:46+0000 lvl=info msg=\"starting web service\" obj=web addr=127.0.0.1:4040\n",
            "2022-12-14 11:15:46.509 t=2022-12-14T11:15:46+0000 lvl=info msg=\"starting web service\" obj=web addr=127.0.0.1:4040\n",
            "INFO:pyngrok.process.ngrok:t=2022-12-14T11:15:46+0000 lvl=info msg=\"tunnel session started\" obj=tunnels.session\n",
            "2022-12-14 11:15:46.724 t=2022-12-14T11:15:46+0000 lvl=info msg=\"tunnel session started\" obj=tunnels.session\n",
            "INFO:pyngrok.process.ngrok:t=2022-12-14T11:15:46+0000 lvl=info msg=\"client session established\" obj=csess id=f301100c52d1\n",
            "2022-12-14 11:15:46.731 t=2022-12-14T11:15:46+0000 lvl=info msg=\"client session established\" obj=csess id=f301100c52d1\n",
            "INFO:pyngrok.process.ngrok:t=2022-12-14T11:15:46+0000 lvl=info msg=start pg=/api/tunnels id=5b1c0973a278a516\n",
            "2022-12-14 11:15:46.742 t=2022-12-14T11:15:46+0000 lvl=info msg=start pg=/api/tunnels id=5b1c0973a278a516\n",
            "INFO:pyngrok.process.ngrok:t=2022-12-14T11:15:46+0000 lvl=info msg=end pg=/api/tunnels id=5b1c0973a278a516 status=200 dur=461.917µs\n",
            "2022-12-14 11:15:46.750 t=2022-12-14T11:15:46+0000 lvl=info msg=end pg=/api/tunnels id=5b1c0973a278a516 status=200 dur=461.917µs\n",
            "INFO:pyngrok.process.ngrok:t=2022-12-14T11:15:46+0000 lvl=info msg=start pg=/api/tunnels id=4b3b0af97e57525a\n",
            "2022-12-14 11:15:46.755 t=2022-12-14T11:15:46+0000 lvl=info msg=start pg=/api/tunnels id=4b3b0af97e57525a\n",
            "INFO:pyngrok.process.ngrok:t=2022-12-14T11:15:46+0000 lvl=info msg=end pg=/api/tunnels id=4b3b0af97e57525a status=200 dur=149.182µs\n",
            "2022-12-14 11:15:46.759 t=2022-12-14T11:15:46+0000 lvl=info msg=end pg=/api/tunnels id=4b3b0af97e57525a status=200 dur=149.182µs\n",
            "INFO:pyngrok.process.ngrok:t=2022-12-14T11:15:46+0000 lvl=info msg=start pg=/api/tunnels id=b549c08793aed753\n",
            "2022-12-14 11:15:46.764 t=2022-12-14T11:15:46+0000 lvl=info msg=start pg=/api/tunnels id=b549c08793aed753\n",
            "INFO:pyngrok.process.ngrok:t=2022-12-14T11:15:46+0000 lvl=info msg=\"started tunnel\" obj=tunnels name=\"http-80-911b5f50-bd6c-416f-8358-140fd4074f7c (http)\" addr=http://localhost:80 url=http://f73c-34-125-168-58.ngrok.io\n",
            "2022-12-14 11:15:46.885 t=2022-12-14T11:15:46+0000 lvl=info msg=\"started tunnel\" obj=tunnels name=\"http-80-911b5f50-bd6c-416f-8358-140fd4074f7c (http)\" addr=http://localhost:80 url=http://f73c-34-125-168-58.ngrok.io\n",
            "INFO:pyngrok.process.ngrok:t=2022-12-14T11:15:46+0000 lvl=info msg=\"started tunnel\" obj=tunnels name=http-80-911b5f50-bd6c-416f-8358-140fd4074f7c addr=http://localhost:80 url=https://f73c-34-125-168-58.ngrok.io\n",
            "2022-12-14 11:15:46.898 t=2022-12-14T11:15:46+0000 lvl=info msg=\"started tunnel\" obj=tunnels name=http-80-911b5f50-bd6c-416f-8358-140fd4074f7c addr=http://localhost:80 url=https://f73c-34-125-168-58.ngrok.io\n"
          ]
        },
        {
          "output_type": "execute_result",
          "data": {
            "text/plain": [
              "<NgrokTunnel: \"http://f73c-34-125-168-58.ngrok.io\" -> \"http://localhost:80\">"
            ]
          },
          "metadata": {},
          "execution_count": 36
        },
        {
          "output_type": "stream",
          "name": "stderr",
          "text": [
            "INFO:pyngrok.process.ngrok:t=2022-12-14T11:15:46+0000 lvl=info msg=end pg=/api/tunnels id=b549c08793aed753 status=201 dur=141.274325ms\n",
            "2022-12-14 11:15:46.906 t=2022-12-14T11:15:46+0000 lvl=info msg=end pg=/api/tunnels id=b549c08793aed753 status=201 dur=141.274325ms\n",
            "INFO:pyngrok.process.ngrok:t=2022-12-14T11:15:46+0000 lvl=info msg=start pg=\"/api/tunnels/http-80-911b5f50-bd6c-416f-8358-140fd4074f7c (http)\" id=2bbc57504fb73c34\n",
            "2022-12-14 11:15:46.914 t=2022-12-14T11:15:46+0000 lvl=info msg=start pg=\"/api/tunnels/http-80-911b5f50-bd6c-416f-8358-140fd4074f7c (http)\" id=2bbc57504fb73c34\n",
            "INFO:pyngrok.process.ngrok:t=2022-12-14T11:15:46+0000 lvl=info msg=end pg=\"/api/tunnels/http-80-911b5f50-bd6c-416f-8358-140fd4074f7c (http)\" id=2bbc57504fb73c34 status=200 dur=201.585µs\n",
            "2022-12-14 11:15:46.929 t=2022-12-14T11:15:46+0000 lvl=info msg=end pg=\"/api/tunnels/http-80-911b5f50-bd6c-416f-8358-140fd4074f7c (http)\" id=2bbc57504fb73c34 status=200 dur=201.585µs\n"
          ]
        }
      ]
    },
    {
      "cell_type": "code",
      "source": [
        "!streamlit run streamlit_app.py &>/dev/null&"
      ],
      "metadata": {
        "id": "TzkcAg0TV2MW"
      },
      "execution_count": 37,
      "outputs": []
    },
    {
      "cell_type": "code",
      "source": [
        "!streamlit run streamlit_app.py & npx localtunnel --port 8501\n"
      ],
      "metadata": {
        "id": "SU4ys9SrS5h7",
        "outputId": "b0157464-4873-447a-9887-628344a04abc",
        "colab": {
          "base_uri": "https://localhost:8080/"
        }
      },
      "execution_count": 56,
      "outputs": [
        {
          "output_type": "stream",
          "name": "stdout",
          "text": [
            "[############......] - refresh-package-json:localtunnel: timing action:finalize\u001b[0m\u001b[K\n",
            "Collecting usage statistics. To deactivate, set browser.gatherUsageStats to False.\n",
            "\u001b[0m\n",
            "\u001b[K\u001b[?25hnpx: installed 22 in 3.1s\n",
            "\u001b[0m\n",
            "\u001b[34m\u001b[1m  You can now view your Streamlit app in your browser.\u001b[0m\n",
            "\u001b[0m\n",
            "\u001b[34m  Network URL: \u001b[0m\u001b[1mhttp://172.28.0.12:8501\u001b[0m\n",
            "\u001b[34m  External URL: \u001b[0m\u001b[1mhttp://34.125.168.58:8501\u001b[0m\n",
            "\u001b[0m\n",
            "your url is: https://heavy-mangos-jam-34-125-168-58.loca.lt\n",
            "2022-12-14 12:08:27.413 Generating grammar tables from /usr/lib/python3.8/lib2to3/Grammar.txt\n",
            "2022-12-14 12:08:27.433 Generating grammar tables from /usr/lib/python3.8/lib2to3/PatternGrammar.txt\n",
            "Model is multilingual and has 37,184,640 parameters.\n",
            "Model is multilingual and has 37,184,640 parameters.\n",
            "Model is multilingual and has 37,184,640 parameters.\n",
            "/usr/local/lib/python3.8/dist-packages/whisper/transcribe.py:78: UserWarning: FP16 is not supported on CPU; using FP32 instead\n",
            "  warnings.warn(\"FP16 is not supported on CPU; using FP32 instead\")\n",
            "\u001b[34m  Stopping...\u001b[0m\n",
            "^C\n"
          ]
        }
      ]
    },
    {
      "cell_type": "code",
      "source": [],
      "metadata": {
        "id": "fTg1VWiIVr7m"
      },
      "execution_count": null,
      "outputs": []
    },
    {
      "cell_type": "code",
      "source": [],
      "metadata": {
        "id": "w9U3_8CZTOzH"
      },
      "execution_count": null,
      "outputs": []
    }
  ],
  "metadata": {
    "colab": {
      "provenance": []
    },
    "kernelspec": {
      "display_name": "Python 3",
      "name": "python3"
    },
    "language_info": {
      "name": "python"
    },
    "widgets": {
      "application/vnd.jupyter.widget-state+json": {
        "34048a7fb64149a7bd18ca3a5c17b476": {
          "model_module": "@jupyter-widgets/controls",
          "model_name": "DropdownModel",
          "model_module_version": "1.5.0",
          "state": {
            "_dom_classes": [],
            "_model_module": "@jupyter-widgets/controls",
            "_model_module_version": "1.5.0",
            "_model_name": "DropdownModel",
            "_options_labels": [
              "Select language",
              "----------",
              "Afrikaans (af_za)",
              "Amharic (am_et)",
              "Arabic (ar_eg)",
              "Armenian (hy_am)",
              "Assamese (as_in)",
              "Azerbaijani (az_az)",
              "Belarusian (be_by)",
              "Bengali (bn_in)",
              "Bosnian (bs_ba)",
              "Bulgarian (bg_bg)",
              "Catalan (ca_es)",
              "Chinese (cmn_hans_cn)",
              "Croatian (hr_hr)",
              "Czech (cs_cz)",
              "Danish (da_dk)",
              "Dutch (nl_nl)",
              "English (en_us)",
              "Estonian (et_ee)",
              "Finnish (fi_fi)",
              "French (fr_fr)",
              "Galician (gl_es)",
              "Georgian (ka_ge)",
              "German (de_de)",
              "Greek (el_gr)",
              "Gujarati (gu_in)",
              "Hausa (ha_ng)",
              "Hebrew (he_il)",
              "Hindi (hi_in)",
              "Hungarian (hu_hu)",
              "Icelandic (is_is)",
              "Indonesian (id_id)",
              "Italian (it_it)",
              "Japanese (ja_jp)",
              "Javanese (jv_id)",
              "Kannada (kn_in)",
              "Kazakh (kk_kz)",
              "Khmer (km_kh)",
              "Korean (ko_kr)",
              "Lao (lo_la)",
              "Latvian (lv_lv)",
              "Lingala (ln_cd)",
              "Lithuanian (lt_lt)",
              "Luxembourgish (lb_lu)",
              "Macedonian (mk_mk)",
              "Malay (ms_my)",
              "Malayalam (ml_in)",
              "Maltese (mt_mt)",
              "Maori (mi_nz)",
              "Marathi (mr_in)",
              "Mongolian (mn_mn)",
              "Myanmar (my_mm)",
              "Nepali (ne_np)",
              "Norwegian (nb_no)",
              "Occitan (oc_fr)",
              "Pashto (ps_af)",
              "Persian (fa_ir)",
              "Polish (pl_pl)",
              "Portuguese (pt_br)",
              "Punjabi (pa_in)",
              "Romanian (ro_ro)",
              "Russian (ru_ru)",
              "Serbian (sr_rs)",
              "Shona (sn_zw)",
              "Sindhi (sd_in)",
              "Slovak (sk_sk)",
              "Slovenian (sl_si)",
              "Somali (so_so)",
              "Spanish (es_419)",
              "Swahili (sw_ke)",
              "Swedish (sv_se)",
              "Tagalog (fil_ph)",
              "Tajik (tg_tj)",
              "Tamil (ta_in)",
              "Telugu (te_in)",
              "Thai (th_th)",
              "Turkish (tr_tr)",
              "Ukrainian (uk_ua)",
              "Urdu (ur_pk)",
              "Uzbek (uz_uz)",
              "Vietnamese (vi_vn)",
              "Welsh (cy_gb)",
              "Yoruba (yo_ng)"
            ],
            "_view_count": null,
            "_view_module": "@jupyter-widgets/controls",
            "_view_module_version": "1.5.0",
            "_view_name": "DropdownView",
            "description": "Language:",
            "description_tooltip": null,
            "disabled": false,
            "index": 39,
            "layout": "IPY_MODEL_d94216b3c92d49fe87afa43a6075e002",
            "style": "IPY_MODEL_e8afb53fb3b9447f90ea3483611fcd60"
          }
        },
        "d94216b3c92d49fe87afa43a6075e002": {
          "model_module": "@jupyter-widgets/base",
          "model_name": "LayoutModel",
          "model_module_version": "1.2.0",
          "state": {
            "_model_module": "@jupyter-widgets/base",
            "_model_module_version": "1.2.0",
            "_model_name": "LayoutModel",
            "_view_count": null,
            "_view_module": "@jupyter-widgets/base",
            "_view_module_version": "1.2.0",
            "_view_name": "LayoutView",
            "align_content": null,
            "align_items": null,
            "align_self": null,
            "border": null,
            "bottom": null,
            "display": null,
            "flex": null,
            "flex_flow": null,
            "grid_area": null,
            "grid_auto_columns": null,
            "grid_auto_flow": null,
            "grid_auto_rows": null,
            "grid_column": null,
            "grid_gap": null,
            "grid_row": null,
            "grid_template_areas": null,
            "grid_template_columns": null,
            "grid_template_rows": null,
            "height": null,
            "justify_content": null,
            "justify_items": null,
            "left": null,
            "margin": null,
            "max_height": null,
            "max_width": null,
            "min_height": null,
            "min_width": null,
            "object_fit": null,
            "object_position": null,
            "order": null,
            "overflow": null,
            "overflow_x": null,
            "overflow_y": null,
            "padding": null,
            "right": null,
            "top": null,
            "visibility": null,
            "width": null
          }
        },
        "e8afb53fb3b9447f90ea3483611fcd60": {
          "model_module": "@jupyter-widgets/controls",
          "model_name": "DescriptionStyleModel",
          "model_module_version": "1.5.0",
          "state": {
            "_model_module": "@jupyter-widgets/controls",
            "_model_module_version": "1.5.0",
            "_model_name": "DescriptionStyleModel",
            "_view_count": null,
            "_view_module": "@jupyter-widgets/base",
            "_view_module_version": "1.2.0",
            "_view_name": "StyleView",
            "description_width": ""
          }
        },
        "a17f5288c09245deaf931fbb5f54ea1e": {
          "model_module": "@jupyter-widgets/controls",
          "model_name": "HBoxModel",
          "model_module_version": "1.5.0",
          "state": {
            "_dom_classes": [],
            "_model_module": "@jupyter-widgets/controls",
            "_model_module_version": "1.5.0",
            "_model_name": "HBoxModel",
            "_view_count": null,
            "_view_module": "@jupyter-widgets/controls",
            "_view_module_version": "1.5.0",
            "_view_name": "HBoxView",
            "box_style": "",
            "children": [
              "IPY_MODEL_7a8e699444d74b95ba1354100d27e2b8",
              "IPY_MODEL_a656aa52dc6b4b1585e0d1dd2a41a74d",
              "IPY_MODEL_7125492826a44ba5aa6bb80114fc01d8"
            ],
            "layout": "IPY_MODEL_c9af8c01689449d0addaf7c39909447e"
          }
        },
        "7a8e699444d74b95ba1354100d27e2b8": {
          "model_module": "@jupyter-widgets/controls",
          "model_name": "HTMLModel",
          "model_module_version": "1.5.0",
          "state": {
            "_dom_classes": [],
            "_model_module": "@jupyter-widgets/controls",
            "_model_module_version": "1.5.0",
            "_model_name": "HTMLModel",
            "_view_count": null,
            "_view_module": "@jupyter-widgets/controls",
            "_view_module_version": "1.5.0",
            "_view_name": "HTMLView",
            "description": "",
            "description_tooltip": null,
            "layout": "IPY_MODEL_162c1c6f466b4c8290dc742ac87edd11",
            "placeholder": "​",
            "style": "IPY_MODEL_647353b9dca941e09df23b43562afb91",
            "value": "100%"
          }
        },
        "a656aa52dc6b4b1585e0d1dd2a41a74d": {
          "model_module": "@jupyter-widgets/controls",
          "model_name": "FloatProgressModel",
          "model_module_version": "1.5.0",
          "state": {
            "_dom_classes": [],
            "_model_module": "@jupyter-widgets/controls",
            "_model_module_version": "1.5.0",
            "_model_name": "FloatProgressModel",
            "_view_count": null,
            "_view_module": "@jupyter-widgets/controls",
            "_view_module_version": "1.5.0",
            "_view_name": "ProgressView",
            "bar_style": "success",
            "description": "",
            "description_tooltip": null,
            "layout": "IPY_MODEL_2d81952cb4d844158f4c7990d820a6dc",
            "max": 1769726096,
            "min": 0,
            "orientation": "horizontal",
            "style": "IPY_MODEL_dcaf07059313464c947ea7adc6e65519",
            "value": 1769726096
          }
        },
        "7125492826a44ba5aa6bb80114fc01d8": {
          "model_module": "@jupyter-widgets/controls",
          "model_name": "HTMLModel",
          "model_module_version": "1.5.0",
          "state": {
            "_dom_classes": [],
            "_model_module": "@jupyter-widgets/controls",
            "_model_module_version": "1.5.0",
            "_model_name": "HTMLModel",
            "_view_count": null,
            "_view_module": "@jupyter-widgets/controls",
            "_view_module_version": "1.5.0",
            "_view_name": "HTMLView",
            "description": "",
            "description_tooltip": null,
            "layout": "IPY_MODEL_f9f7e8da3a4f4eb8925a45c32351a10f",
            "placeholder": "​",
            "style": "IPY_MODEL_0fecf69672d74998b0f2151263933b5b",
            "value": " 1.65G/1.65G [00:23&lt;00:00, 94.5MiB/s]"
          }
        },
        "c9af8c01689449d0addaf7c39909447e": {
          "model_module": "@jupyter-widgets/base",
          "model_name": "LayoutModel",
          "model_module_version": "1.2.0",
          "state": {
            "_model_module": "@jupyter-widgets/base",
            "_model_module_version": "1.2.0",
            "_model_name": "LayoutModel",
            "_view_count": null,
            "_view_module": "@jupyter-widgets/base",
            "_view_module_version": "1.2.0",
            "_view_name": "LayoutView",
            "align_content": null,
            "align_items": null,
            "align_self": null,
            "border": null,
            "bottom": null,
            "display": "inline-flex",
            "flex": null,
            "flex_flow": "row wrap",
            "grid_area": null,
            "grid_auto_columns": null,
            "grid_auto_flow": null,
            "grid_auto_rows": null,
            "grid_column": null,
            "grid_gap": null,
            "grid_row": null,
            "grid_template_areas": null,
            "grid_template_columns": null,
            "grid_template_rows": null,
            "height": null,
            "justify_content": null,
            "justify_items": null,
            "left": null,
            "margin": null,
            "max_height": null,
            "max_width": null,
            "min_height": null,
            "min_width": null,
            "object_fit": null,
            "object_position": null,
            "order": null,
            "overflow": null,
            "overflow_x": null,
            "overflow_y": null,
            "padding": null,
            "right": null,
            "top": null,
            "visibility": null,
            "width": "80px"
          }
        },
        "162c1c6f466b4c8290dc742ac87edd11": {
          "model_module": "@jupyter-widgets/base",
          "model_name": "LayoutModel",
          "model_module_version": "1.2.0",
          "state": {
            "_model_module": "@jupyter-widgets/base",
            "_model_module_version": "1.2.0",
            "_model_name": "LayoutModel",
            "_view_count": null,
            "_view_module": "@jupyter-widgets/base",
            "_view_module_version": "1.2.0",
            "_view_name": "LayoutView",
            "align_content": null,
            "align_items": null,
            "align_self": null,
            "border": null,
            "bottom": null,
            "display": null,
            "flex": null,
            "flex_flow": null,
            "grid_area": null,
            "grid_auto_columns": null,
            "grid_auto_flow": null,
            "grid_auto_rows": null,
            "grid_column": null,
            "grid_gap": null,
            "grid_row": null,
            "grid_template_areas": null,
            "grid_template_columns": null,
            "grid_template_rows": null,
            "height": null,
            "justify_content": null,
            "justify_items": null,
            "left": null,
            "margin": null,
            "max_height": null,
            "max_width": null,
            "min_height": null,
            "min_width": null,
            "object_fit": null,
            "object_position": null,
            "order": null,
            "overflow": null,
            "overflow_x": null,
            "overflow_y": null,
            "padding": null,
            "right": null,
            "top": null,
            "visibility": null,
            "width": null
          }
        },
        "647353b9dca941e09df23b43562afb91": {
          "model_module": "@jupyter-widgets/controls",
          "model_name": "DescriptionStyleModel",
          "model_module_version": "1.5.0",
          "state": {
            "_model_module": "@jupyter-widgets/controls",
            "_model_module_version": "1.5.0",
            "_model_name": "DescriptionStyleModel",
            "_view_count": null,
            "_view_module": "@jupyter-widgets/base",
            "_view_module_version": "1.2.0",
            "_view_name": "StyleView",
            "description_width": ""
          }
        },
        "2d81952cb4d844158f4c7990d820a6dc": {
          "model_module": "@jupyter-widgets/base",
          "model_name": "LayoutModel",
          "model_module_version": "1.2.0",
          "state": {
            "_model_module": "@jupyter-widgets/base",
            "_model_module_version": "1.2.0",
            "_model_name": "LayoutModel",
            "_view_count": null,
            "_view_module": "@jupyter-widgets/base",
            "_view_module_version": "1.2.0",
            "_view_name": "LayoutView",
            "align_content": null,
            "align_items": null,
            "align_self": null,
            "border": null,
            "bottom": null,
            "display": null,
            "flex": "2",
            "flex_flow": null,
            "grid_area": null,
            "grid_auto_columns": null,
            "grid_auto_flow": null,
            "grid_auto_rows": null,
            "grid_column": null,
            "grid_gap": null,
            "grid_row": null,
            "grid_template_areas": null,
            "grid_template_columns": null,
            "grid_template_rows": null,
            "height": null,
            "justify_content": null,
            "justify_items": null,
            "left": null,
            "margin": null,
            "max_height": null,
            "max_width": null,
            "min_height": null,
            "min_width": null,
            "object_fit": null,
            "object_position": null,
            "order": null,
            "overflow": null,
            "overflow_x": null,
            "overflow_y": null,
            "padding": null,
            "right": null,
            "top": null,
            "visibility": null,
            "width": null
          }
        },
        "dcaf07059313464c947ea7adc6e65519": {
          "model_module": "@jupyter-widgets/controls",
          "model_name": "ProgressStyleModel",
          "model_module_version": "1.5.0",
          "state": {
            "_model_module": "@jupyter-widgets/controls",
            "_model_module_version": "1.5.0",
            "_model_name": "ProgressStyleModel",
            "_view_count": null,
            "_view_module": "@jupyter-widgets/base",
            "_view_module_version": "1.2.0",
            "_view_name": "StyleView",
            "bar_color": null,
            "description_width": ""
          }
        },
        "f9f7e8da3a4f4eb8925a45c32351a10f": {
          "model_module": "@jupyter-widgets/base",
          "model_name": "LayoutModel",
          "model_module_version": "1.2.0",
          "state": {
            "_model_module": "@jupyter-widgets/base",
            "_model_module_version": "1.2.0",
            "_model_name": "LayoutModel",
            "_view_count": null,
            "_view_module": "@jupyter-widgets/base",
            "_view_module_version": "1.2.0",
            "_view_name": "LayoutView",
            "align_content": null,
            "align_items": null,
            "align_self": null,
            "border": null,
            "bottom": null,
            "display": null,
            "flex": null,
            "flex_flow": null,
            "grid_area": null,
            "grid_auto_columns": null,
            "grid_auto_flow": null,
            "grid_auto_rows": null,
            "grid_column": null,
            "grid_gap": null,
            "grid_row": null,
            "grid_template_areas": null,
            "grid_template_columns": null,
            "grid_template_rows": null,
            "height": null,
            "justify_content": null,
            "justify_items": null,
            "left": null,
            "margin": null,
            "max_height": null,
            "max_width": null,
            "min_height": null,
            "min_width": null,
            "object_fit": null,
            "object_position": null,
            "order": null,
            "overflow": null,
            "overflow_x": null,
            "overflow_y": null,
            "padding": null,
            "right": null,
            "top": null,
            "visibility": null,
            "width": null
          }
        },
        "0fecf69672d74998b0f2151263933b5b": {
          "model_module": "@jupyter-widgets/controls",
          "model_name": "DescriptionStyleModel",
          "model_module_version": "1.5.0",
          "state": {
            "_model_module": "@jupyter-widgets/controls",
            "_model_module_version": "1.5.0",
            "_model_name": "DescriptionStyleModel",
            "_view_count": null,
            "_view_module": "@jupyter-widgets/base",
            "_view_module_version": "1.2.0",
            "_view_name": "StyleView",
            "description_width": ""
          }
        },
        "8cb4857b0f434c27956841bf0f8c44b9": {
          "model_module": "@jupyter-widgets/controls",
          "model_name": "HBoxModel",
          "model_module_version": "1.5.0",
          "state": {
            "_dom_classes": [],
            "_model_module": "@jupyter-widgets/controls",
            "_model_module_version": "1.5.0",
            "_model_name": "HBoxModel",
            "_view_count": null,
            "_view_module": "@jupyter-widgets/controls",
            "_view_module_version": "1.5.0",
            "_view_name": "HBoxView",
            "box_style": "",
            "children": [
              "IPY_MODEL_f30e106ad2d14ec89e1a042995377a0d",
              "IPY_MODEL_fc811763a52341e2a3b1cde802dabe2a",
              "IPY_MODEL_be49d709b2294f0aa466e6d22cde8fed"
            ],
            "layout": "IPY_MODEL_b22667e2659c4b0d8341aab12eab2434"
          }
        },
        "f30e106ad2d14ec89e1a042995377a0d": {
          "model_module": "@jupyter-widgets/controls",
          "model_name": "HTMLModel",
          "model_module_version": "1.5.0",
          "state": {
            "_dom_classes": [],
            "_model_module": "@jupyter-widgets/controls",
            "_model_module_version": "1.5.0",
            "_model_name": "HTMLModel",
            "_view_count": null,
            "_view_module": "@jupyter-widgets/controls",
            "_view_module_version": "1.5.0",
            "_view_name": "HTMLView",
            "description": "",
            "description_tooltip": null,
            "layout": "IPY_MODEL_f3fdabe93cf7449fbe2f1f7308f3a043",
            "placeholder": "​",
            "style": "IPY_MODEL_1abb63ad1b48427ca24022a3d05d6139",
            "value": "100%"
          }
        },
        "fc811763a52341e2a3b1cde802dabe2a": {
          "model_module": "@jupyter-widgets/controls",
          "model_name": "FloatProgressModel",
          "model_module_version": "1.5.0",
          "state": {
            "_dom_classes": [],
            "_model_module": "@jupyter-widgets/controls",
            "_model_module_version": "1.5.0",
            "_model_name": "FloatProgressModel",
            "_view_count": null,
            "_view_module": "@jupyter-widgets/controls",
            "_view_module_version": "1.5.0",
            "_view_name": "ProgressView",
            "bar_style": "success",
            "description": "",
            "description_tooltip": null,
            "layout": "IPY_MODEL_bde4b7894d864b4696fd5193a26f1e3e",
            "max": 39,
            "min": 0,
            "orientation": "horizontal",
            "style": "IPY_MODEL_8af593fa80934fea80ad86152d4e89d2",
            "value": 39
          }
        },
        "be49d709b2294f0aa466e6d22cde8fed": {
          "model_module": "@jupyter-widgets/controls",
          "model_name": "HTMLModel",
          "model_module_version": "1.5.0",
          "state": {
            "_dom_classes": [],
            "_model_module": "@jupyter-widgets/controls",
            "_model_module_version": "1.5.0",
            "_model_name": "HTMLModel",
            "_view_count": null,
            "_view_module": "@jupyter-widgets/controls",
            "_view_module_version": "1.5.0",
            "_view_name": "HTMLView",
            "description": "",
            "description_tooltip": null,
            "layout": "IPY_MODEL_1605cef5e0b34fafbc1afaf7a68a2d27",
            "placeholder": "​",
            "style": "IPY_MODEL_c49789f9e1114d9dae0a174defe7321f",
            "value": " 39/39 [47:28&lt;00:00, 95.29s/it]"
          }
        },
        "b22667e2659c4b0d8341aab12eab2434": {
          "model_module": "@jupyter-widgets/base",
          "model_name": "LayoutModel",
          "model_module_version": "1.2.0",
          "state": {
            "_model_module": "@jupyter-widgets/base",
            "_model_module_version": "1.2.0",
            "_model_name": "LayoutModel",
            "_view_count": null,
            "_view_module": "@jupyter-widgets/base",
            "_view_module_version": "1.2.0",
            "_view_name": "LayoutView",
            "align_content": null,
            "align_items": null,
            "align_self": null,
            "border": null,
            "bottom": null,
            "display": null,
            "flex": null,
            "flex_flow": null,
            "grid_area": null,
            "grid_auto_columns": null,
            "grid_auto_flow": null,
            "grid_auto_rows": null,
            "grid_column": null,
            "grid_gap": null,
            "grid_row": null,
            "grid_template_areas": null,
            "grid_template_columns": null,
            "grid_template_rows": null,
            "height": null,
            "justify_content": null,
            "justify_items": null,
            "left": null,
            "margin": null,
            "max_height": null,
            "max_width": null,
            "min_height": null,
            "min_width": null,
            "object_fit": null,
            "object_position": null,
            "order": null,
            "overflow": null,
            "overflow_x": null,
            "overflow_y": null,
            "padding": null,
            "right": null,
            "top": null,
            "visibility": null,
            "width": null
          }
        },
        "f3fdabe93cf7449fbe2f1f7308f3a043": {
          "model_module": "@jupyter-widgets/base",
          "model_name": "LayoutModel",
          "model_module_version": "1.2.0",
          "state": {
            "_model_module": "@jupyter-widgets/base",
            "_model_module_version": "1.2.0",
            "_model_name": "LayoutModel",
            "_view_count": null,
            "_view_module": "@jupyter-widgets/base",
            "_view_module_version": "1.2.0",
            "_view_name": "LayoutView",
            "align_content": null,
            "align_items": null,
            "align_self": null,
            "border": null,
            "bottom": null,
            "display": null,
            "flex": null,
            "flex_flow": null,
            "grid_area": null,
            "grid_auto_columns": null,
            "grid_auto_flow": null,
            "grid_auto_rows": null,
            "grid_column": null,
            "grid_gap": null,
            "grid_row": null,
            "grid_template_areas": null,
            "grid_template_columns": null,
            "grid_template_rows": null,
            "height": null,
            "justify_content": null,
            "justify_items": null,
            "left": null,
            "margin": null,
            "max_height": null,
            "max_width": null,
            "min_height": null,
            "min_width": null,
            "object_fit": null,
            "object_position": null,
            "order": null,
            "overflow": null,
            "overflow_x": null,
            "overflow_y": null,
            "padding": null,
            "right": null,
            "top": null,
            "visibility": null,
            "width": null
          }
        },
        "1abb63ad1b48427ca24022a3d05d6139": {
          "model_module": "@jupyter-widgets/controls",
          "model_name": "DescriptionStyleModel",
          "model_module_version": "1.5.0",
          "state": {
            "_model_module": "@jupyter-widgets/controls",
            "_model_module_version": "1.5.0",
            "_model_name": "DescriptionStyleModel",
            "_view_count": null,
            "_view_module": "@jupyter-widgets/base",
            "_view_module_version": "1.2.0",
            "_view_name": "StyleView",
            "description_width": ""
          }
        },
        "bde4b7894d864b4696fd5193a26f1e3e": {
          "model_module": "@jupyter-widgets/base",
          "model_name": "LayoutModel",
          "model_module_version": "1.2.0",
          "state": {
            "_model_module": "@jupyter-widgets/base",
            "_model_module_version": "1.2.0",
            "_model_name": "LayoutModel",
            "_view_count": null,
            "_view_module": "@jupyter-widgets/base",
            "_view_module_version": "1.2.0",
            "_view_name": "LayoutView",
            "align_content": null,
            "align_items": null,
            "align_self": null,
            "border": null,
            "bottom": null,
            "display": null,
            "flex": null,
            "flex_flow": null,
            "grid_area": null,
            "grid_auto_columns": null,
            "grid_auto_flow": null,
            "grid_auto_rows": null,
            "grid_column": null,
            "grid_gap": null,
            "grid_row": null,
            "grid_template_areas": null,
            "grid_template_columns": null,
            "grid_template_rows": null,
            "height": null,
            "justify_content": null,
            "justify_items": null,
            "left": null,
            "margin": null,
            "max_height": null,
            "max_width": null,
            "min_height": null,
            "min_width": null,
            "object_fit": null,
            "object_position": null,
            "order": null,
            "overflow": null,
            "overflow_x": null,
            "overflow_y": null,
            "padding": null,
            "right": null,
            "top": null,
            "visibility": null,
            "width": null
          }
        },
        "8af593fa80934fea80ad86152d4e89d2": {
          "model_module": "@jupyter-widgets/controls",
          "model_name": "ProgressStyleModel",
          "model_module_version": "1.5.0",
          "state": {
            "_model_module": "@jupyter-widgets/controls",
            "_model_module_version": "1.5.0",
            "_model_name": "ProgressStyleModel",
            "_view_count": null,
            "_view_module": "@jupyter-widgets/base",
            "_view_module_version": "1.2.0",
            "_view_name": "StyleView",
            "bar_color": null,
            "description_width": ""
          }
        },
        "1605cef5e0b34fafbc1afaf7a68a2d27": {
          "model_module": "@jupyter-widgets/base",
          "model_name": "LayoutModel",
          "model_module_version": "1.2.0",
          "state": {
            "_model_module": "@jupyter-widgets/base",
            "_model_module_version": "1.2.0",
            "_model_name": "LayoutModel",
            "_view_count": null,
            "_view_module": "@jupyter-widgets/base",
            "_view_module_version": "1.2.0",
            "_view_name": "LayoutView",
            "align_content": null,
            "align_items": null,
            "align_self": null,
            "border": null,
            "bottom": null,
            "display": null,
            "flex": null,
            "flex_flow": null,
            "grid_area": null,
            "grid_auto_columns": null,
            "grid_auto_flow": null,
            "grid_auto_rows": null,
            "grid_column": null,
            "grid_gap": null,
            "grid_row": null,
            "grid_template_areas": null,
            "grid_template_columns": null,
            "grid_template_rows": null,
            "height": null,
            "justify_content": null,
            "justify_items": null,
            "left": null,
            "margin": null,
            "max_height": null,
            "max_width": null,
            "min_height": null,
            "min_width": null,
            "object_fit": null,
            "object_position": null,
            "order": null,
            "overflow": null,
            "overflow_x": null,
            "overflow_y": null,
            "padding": null,
            "right": null,
            "top": null,
            "visibility": null,
            "width": null
          }
        },
        "c49789f9e1114d9dae0a174defe7321f": {
          "model_module": "@jupyter-widgets/controls",
          "model_name": "DescriptionStyleModel",
          "model_module_version": "1.5.0",
          "state": {
            "_model_module": "@jupyter-widgets/controls",
            "_model_module_version": "1.5.0",
            "_model_name": "DescriptionStyleModel",
            "_view_count": null,
            "_view_module": "@jupyter-widgets/base",
            "_view_module_version": "1.2.0",
            "_view_name": "StyleView",
            "description_width": ""
          }
        }
      }
    }
  },
  "nbformat": 4,
  "nbformat_minor": 0
}